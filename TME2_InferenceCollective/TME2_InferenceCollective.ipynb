{
 "cells": [
  {
   "cell_type": "markdown",
   "metadata": {},
   "source": [
    "# Imports"
   ]
  },
  {
   "cell_type": "code",
   "execution_count": 1,
   "metadata": {
    "collapsed": false
   },
   "outputs": [],
   "source": [
    "from copy import deepcopy\n",
    "import numpy as np\n",
    "from sklearn.svm import LinearSVC\n",
    "import matplotlib.pyplot as plt\n",
    "from collections import OrderedDict\n",
    "\n",
    "%matplotlib inline"
   ]
  },
  {
   "cell_type": "markdown",
   "metadata": {},
   "source": [
    "# Chargement des données"
   ]
  },
  {
   "cell_type": "code",
   "execution_count": 2,
   "metadata": {
    "collapsed": true
   },
   "outputs": [],
   "source": [
    "def loadData(dir=\"./data/\", university=\"cornell\"):\n",
    "    fcontent = open(dir+\"content/\"+university+\".content\", \"r\")\n",
    "    content = OrderedDict()\n",
    "    labels = set()\n",
    "    for l in fcontent.readlines():\n",
    "        attributes = l.split('\\t')\n",
    "        label = attributes[-1][:-1]\n",
    "        labels.add(label)\n",
    "        content[attributes[0]] = {}\n",
    "        content[attributes[0]]['attributes'] = attributes[1:-1]\n",
    "        content[attributes[0]]['label'] = label\n",
    "        content[attributes[0]]['successors'] = set()\n",
    "        content[attributes[0]]['predecessors'] = set()\n",
    "        content[attributes[0]]['neighbours'] = set()\n",
    "        content[attributes[0]]['unknown'] = False\n",
    "    fcontent.close()\n",
    "    fcites = open(dir+\"cites/\"+university+\".cites\", \"r\")\n",
    "    for l in fcites.readlines():\n",
    "        sites = l[:-1].split(' ')\n",
    "        content[sites[0]]['successors'].add(sites[1])\n",
    "        content[sites[1]]['predecessors'].add(sites[0])\n",
    "        content[sites[0]]['neighbours'].add(sites[1])\n",
    "        content[sites[1]]['neighbours'].add(sites[0])\n",
    "    return content, list(labels)"
   ]
  },
  {
   "cell_type": "markdown",
   "metadata": {},
   "source": [
    "# Creation des features pour le classifieur local"
   ]
  },
  {
   "cell_type": "code",
   "execution_count": 3,
   "metadata": {
    "collapsed": false
   },
   "outputs": [],
   "source": [
    "def vectorize(graph, unknownList, classes, pooling='sum', direction='successors'):\n",
    "    nNodes = len(graph.keys())\n",
    "    nAtt = len(graph[graph.keys()[0]]['attributes'])\n",
    "    nClass = len(classes)\n",
    "    nUnknown = len(unknownList)\n",
    "    representation = {}\n",
    "    representation['unknown'] = np.zeros((nUnknown, nAtt + nClass))\n",
    "    representation['known'] = np.zeros((nNodes - nUnknown, nAtt + nClass))\n",
    "    labels = {}\n",
    "    labels['unknown'] = np.zeros(nUnknown)\n",
    "    labels['known'] = np.zeros(nNodes - nUnknown)\n",
    "    i = {}\n",
    "    i['unknown'] = 0\n",
    "    i['known'] = 0\n",
    "    for node in graph:\n",
    "        if (node in unknownList):\n",
    "            k = 'unknown'\n",
    "            #si unknownList n'est pas trié\n",
    "            #i[k] = unknownList.index(node)\n",
    "        else:\n",
    "            k = 'known'\n",
    "        representation[k][i[k],:nAtt] = graph[node]['attributes']\n",
    "        labels[k][i[k]] = classes.index(graph[node]['label'])\n",
    "        nKnownSuccessors = 0\n",
    "        for s in graph[node][direction]:\n",
    "            if (not graph[s] in unknownList):\n",
    "                nKnownSuccessors += 1\n",
    "                labelIndex = classes.index(graph[s]['label'])\n",
    "                if (pooling == 'sum' or pooling == 'avg'):\n",
    "                    representation[k][i[k],nAtt + labelIndex] += 1\n",
    "                if (pooling == 'max'):\n",
    "                    representation[k][i[k],nAtt + labelIndex] = 1\n",
    "        if (pooling == 'avg' and nKnownSuccessors > 0):\n",
    "            representation[k][i[k],nAtt:] /= nKnownSuccessors\n",
    "        i[k] += 1\n",
    "    return representation, labels\n",
    "\n",
    "def revectorize(graph, node, classes, pooling='sum', direction='successors'):\n",
    "    nAtt = len(graph[node]['attributes'])\n",
    "    nClass = len(classes)\n",
    "    representation = np.zeros(nAtt + nClass)\n",
    "    representation[:nAtt] = graph[node]['attributes']\n",
    "    nKnownSuccessors = len(graph[node][direction])\n",
    "    for s in graph[node][direction]:\n",
    "        labelIndex = classes.index(graph[s]['label'])\n",
    "        if (pooling == 'sum' or pooling == 'avg'):\n",
    "            representation[nAtt + labelIndex] += 1\n",
    "        if (pooling == 'max'):\n",
    "            representation[nAtt + labelIndex] = 1\n",
    "    if (pooling == 'avg' and nKnownSuccessors > 0):\n",
    "        representation[nAtt:] /= nKnownSuccessors\n",
    "    return representation"
   ]
  },
  {
   "cell_type": "markdown",
   "metadata": {},
   "source": [
    "# ICA"
   ]
  },
  {
   "cell_type": "code",
   "execution_count": 4,
   "metadata": {
    "collapsed": true
   },
   "outputs": [],
   "source": [
    "class ICA():\n",
    "    def __init__(self, localClf, pooling='sum', maxIter=500):\n",
    "        self.localClf = localClf\n",
    "        self.pooling = pooling\n",
    "        self.maxIter = maxIter\n",
    "        pass\n",
    "    def predict(self, graph, unknown, classes):\n",
    "        data, label = vectorize(graph, unknown, classes, self.pooling)\n",
    "        self.localClf.fit(data[\"known\"], label[\"known\"])\n",
    "        currentPred = self.localClf.predict(data[\"unknown\"])\n",
    "        for i,u in enumerate(unknown):\n",
    "            graph[u]['label'] = classes[int(currentPred[i])]\n",
    "        newPred = np.zeros(currentPred.shape)\n",
    "        stop = False\n",
    "        for k in xrange(self.maxIter):\n",
    "            for i in np.random.permutation(len(unknown)):\n",
    "                node = unknown[i]\n",
    "                newPred[i] = self.localClf.predict(revectorize(g, node, classes, self.pooling))\n",
    "                g[node]['label'] = classes[int(newPred[i])]\n",
    "            if ((currentPred == newPred).mean() == 1):\n",
    "                break\n",
    "            tmp = newPred\n",
    "            newPred = currentPred\n",
    "            currentPred = tmp\n",
    "        return currentPred"
   ]
  },
  {
   "cell_type": "markdown",
   "metadata": {},
   "source": [
    "# Propagation de labels"
   ]
  },
  {
   "cell_type": "code",
   "execution_count": 5,
   "metadata": {
    "collapsed": true
   },
   "outputs": [],
   "source": [
    "class LabelPropagation():\n",
    "    def __init__(self):\n",
    "        pass\n",
    "    def predict(self):\n",
    "        pass"
   ]
  },
  {
   "cell_type": "markdown",
   "metadata": {},
   "source": [
    "# Experimentations\n",
    "\n",
    "## Chargement des données"
   ]
  },
  {
   "cell_type": "code",
   "execution_count": 6,
   "metadata": {
    "collapsed": false
   },
   "outputs": [],
   "source": [
    "graph, classes = loadData()\n",
    "\n",
    "# Selection des labels inconnus\n",
    "pUnknown = .10\n",
    "\n",
    "unknown = np.array(graph.keys())[np.sort((np.random.permutation(len(graph.keys()))[:int(len(graph.keys())*pUnknown)]))]"
   ]
  },
  {
   "cell_type": "markdown",
   "metadata": {
    "collapsed": false
   },
   "source": [
    "## Classifieur local"
   ]
  },
  {
   "cell_type": "code",
   "execution_count": 7,
   "metadata": {
    "collapsed": false
   },
   "outputs": [
    {
     "name": "stdout",
     "output_type": "stream",
     "text": [
      "Score: 0.789473684211\n"
     ]
    }
   ],
   "source": [
    "# Extraction des features\n",
    "data, label = vectorize(graph, unknown, classes, 'sum')\n",
    "\n",
    "classifierLocal = LinearSVC(C=1e-2)\n",
    "classifierLocal.fit(data[\"known\"], label[\"known\"])\n",
    "pred = classifierLocal.predict(data[\"unknown\"])\n",
    "print \"Score:\", (pred == label[\"unknown\"]).mean()"
   ]
  },
  {
   "cell_type": "markdown",
   "metadata": {},
   "source": [
    "## ICA"
   ]
  },
  {
   "cell_type": "code",
   "execution_count": 8,
   "metadata": {
    "collapsed": false
   },
   "outputs": [
    {
     "name": "stdout",
     "output_type": "stream",
     "text": [
      "Score:  0.789473684211\n"
     ]
    }
   ],
   "source": [
    "g = deepcopy(graph)\n",
    "\n",
    "ica = ICA(LinearSVC(C=1e-2))\n",
    "pred = ica.predict(g, unknown, classes)\n",
    "print \"Score: \", (pred == label['unknown']).mean()"
   ]
  },
  {
   "cell_type": "markdown",
   "metadata": {},
   "source": [
    "## Propagation de labels"
   ]
  },
  {
   "cell_type": "code",
   "execution_count": null,
   "metadata": {
    "collapsed": true
   },
   "outputs": [],
   "source": [
    "class LabelPropagation():\n",
    "    def __init__(self, beta=2e-2, lambd=1e-2, eps=1e-4, maxIter=2000):\n",
    "        self.beta = beta\n",
    "        self.lambd = lambd\n",
    "        self.eps = eps\n",
    "        self.maxIter = maxIter\n",
    "    def predict(self, graph, unknown, classes):\n",
    "        pass"
   ]
  },
  {
   "cell_type": "markdown",
   "metadata": {},
   "source": [
    "## En fonction de la proportion de labels inconnus"
   ]
  },
  {
   "cell_type": "code",
   "execution_count": 9,
   "metadata": {
    "collapsed": false
   },
   "outputs": [],
   "source": [
    "listP = np.arange(0.05,.96,.01)\n",
    "nbExp = 10\n",
    "scoreLocal = np.zeros((len(listP), nbExp))\n",
    "scoreICA = np.zeros((len(listP), nbExp))\n",
    "\n",
    "for i,pUnknown in enumerate(listP):\n",
    "    for k in xrange(nbExp):\n",
    "        unknown = np.array(graph.keys())[np.sort((np.random.permutation(len(graph.keys()))[:int(len(graph.keys())*pUnknown)]))]\n",
    "        # Classifieur Local\n",
    "        data, label = vectorize(graph, unknown, classes, 'sum')\n",
    "        classifierLocal = LinearSVC(C=1e-2)\n",
    "        classifierLocal.fit(data[\"known\"], label[\"known\"])\n",
    "        predLocal = classifierLocal.predict(data[\"unknown\"])\n",
    "        scoreLocal[i][k] = (predLocal == label[\"unknown\"]).mean()\n",
    "        # ICA\n",
    "        g = deepcopy(graph)\n",
    "        ica = ICA(LinearSVC(C=1e-2))\n",
    "        predICA = ica.predict(g, unknown, classes)\n",
    "        scoreICA[i][k] = (predICA == label[\"unknown\"]).mean()"
   ]
  },
  {
   "cell_type": "code",
   "execution_count": 15,
   "metadata": {
    "collapsed": false
   },
   "outputs": [
    {
     "name": "stdout",
     "output_type": "stream",
     "text": [
      "-0.000454274985455\n"
     ]
    },
    {
     "data": {
      "image/png": "[encoded data removed]",
      "text/plain": [
       "<matplotlib.figure.Figure at 0x7f680f4107d0>"
      ]
     },
     "metadata": {},
     "output_type": "display_data"
    },
    {
     "data": {
      "image/png": "[encoded data removed]",
      "text/plain": [
       "<matplotlib.figure.Figure at 0x7f680f32df10>"
      ]
     },
     "metadata": {},
     "output_type": "display_data"
    }
   ],
   "source": [
    "plt.figure()\n",
    "plt.grid()\n",
    "\n",
    "plt.plot(listP, scoreLocal.mean(1), '-', color='b')\n",
    "plt.fill_between(listP, scoreLocal.mean(1) - scoreLocal.std(1), scoreLocal.mean(1) + scoreLocal.std(1), alpha=0.1, color=\"b\")\n",
    "\n",
    "plt.figure()\n",
    "plt.grid()\n",
    "plt.plot(listP, scoreICA.mean(1), '-', color='r')\n",
    "plt.fill_between(listP, scoreICA.mean(1) - scoreICA.std(1), scoreICA.mean(1) + scoreICA.std(1), alpha=0.1, color=\"r\")\n",
    "\n",
    "print (scoreICA - scoreLocal).mean()"
   ]
  },
  {
   "cell_type": "code",
   "execution_count": null,
   "metadata": {
    "collapsed": true
   },
   "outputs": [],
   "source": []
  },
  {
   "cell_type": "code",
   "execution_count": null,
   "metadata": {
    "collapsed": true
   },
   "outputs": [],
   "source": []
  },
  {
   "cell_type": "code",
   "execution_count": null,
   "metadata": {
    "collapsed": true
   },
   "outputs": [],
   "source": []
  }
 ],
 "metadata": {
  "kernelspec": {
   "display_name": "Python 2",
   "language": "python",
   "name": "python2"
  },
  "language_info": {
   "codemirror_mode": {
    "name": "ipython",
    "version": 2
   },
   "file_extension": ".py",
   "mimetype": "text/x-python",
   "name": "python",
   "nbconvert_exporter": "python",
   "pygments_lexer": "ipython2",
   "version": "2.7.9"
  }
 },
 "nbformat": 4,
 "nbformat_minor": 0
}
