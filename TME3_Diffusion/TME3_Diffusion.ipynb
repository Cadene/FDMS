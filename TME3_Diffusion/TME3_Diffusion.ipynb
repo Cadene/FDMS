{
 "cells": [
  {
   "cell_type": "code",
   "execution_count": 1,
   "metadata": {
    "collapsed": false
   },
   "outputs": [],
   "source": [
    "import numpy as np\n",
    "import random\n",
    "from collections import defaultdict"
   ]
  },
  {
   "cell_type": "code",
   "execution_count": 12,
   "metadata": {
    "collapsed": false
   },
   "outputs": [
    {
     "name": "stdout",
     "output_type": "stream",
     "text": [
      "\n"
     ]
    }
   ],
   "source": [
    "class IndependentCascade():\n",
    "    def __init__(self, delta=1e-5, maxIter=500):\n",
    "        self.preds = defaultdict(dict)\n",
    "        self.delta = delta\n",
    "        self.maxIter = maxIter\n",
    "        self.succs = defaultdict(dict)\n",
    "    def createGraph(self,episodes):\n",
    "        for ep in episodes:\n",
    "            succs = [ep[ep[:,1] > ep[i,1]][:,0] for i in xrange(len(ep))]\n",
    "            for i,succ in enumerate(succs):\n",
    "                for s in succ:\n",
    "                    r = random.random() / 20\n",
    "                    self.preds[int(s)][ep[i,0]] = r\n",
    "                    self.succs[ep[i,0]][int(s)] = r\n",
    "    def fit(self, episodes):\n",
    "        self.episodes = episodes\n",
    "        stop = False\n",
    "        it = 0\n",
    "        while not stop:\n",
    "            p = {}\n",
    "            \n",
    "            for d,episode in enumerate(episodes):\n",
    "                times = np.unique(episode[:,1])\n",
    "                users = episode[:,0]\n",
    "        \n",
    "                #Calcul de PDtu\n",
    "                p[d] = np.zeros((len(times),len(users)))\n",
    "                p[d][0,episode[:,1] == times[0]] = 1\n",
    "                \n",
    "                for t in xrange(1,len(times)):\n",
    "                    for u,user in enumerate(users):\n",
    "                        hasPreds = False\n",
    "                        pdtu = 1.\n",
    "                        #for v in episode[episode[:,1] == times[t-1]][:,0]:\n",
    "                        for v in episode[episode[:,1] < times[t]][:,0]:\n",
    "                            if (v in self.preds[user]):\n",
    "                                hasPreds = True\n",
    "                                pdtu = pdtu * (1 - self.preds[user][v])\n",
    "                        p[d][t,u] = 1-pdtu if hasPreds else 1\n",
    "    \n",
    "            #Maximisation de la vraisemblance    \n",
    "            dplus  = np.zeros((len(self.preds), len(self.preds)))\n",
    "            dminus = np.ones((len(self.preds), len(self.preds))) * len(episodes)\n",
    "            theta  = np.zeros((len(self.preds), len(self.preds)))\n",
    "            for d,episode in enumerate(episodes):\n",
    "                times = list(np.unique(episode[:,1]))\n",
    "                users = episode[:,0]\n",
    "                for u,uId in enumerate(users):\n",
    "                    for v,vId in enumerate(users):\n",
    "                        #if (episode[v,1] <= episode[u,1] + 1):\n",
    "                        #    dminus[uId, vId] = dminus[uId, vId] - 1\n",
    "                        dminus[uId, vId] = dminus[uId, vId] - 1\n",
    "                        #if (episode[v,1] == episode[u,1] + 1):\n",
    "                        if (episode[v,1] > episode[u,1]):\n",
    "                            dplus[uId, vId] = dplus[uId, vId] + 1\n",
    "                            tv = times.index(episode[v,1])\n",
    "                            theta[uId, vId] = theta[uId, vId] + (self.preds[vId][uId] / p[d][tv, v])\n",
    "            theta = theta / (dplus + dminus)\n",
    "            for u in self.preds:\n",
    "                for v in self.preds[u]:\n",
    "                    self.preds[u][v] = theta[v,u]\n",
    "                    self.succs[v][u] = theta[v,u]\n",
    "                    \n",
    "            #Calcul de la vraisemblance\n",
    "            logL = it + 1\n",
    "            print it, self.score(episodes)\n",
    "            \n",
    "            if (it != 0) and ((it == self.maxIter) or (logL - prevLogL < self.delta)):\n",
    "                stop = True\n",
    "            it = it+1\n",
    "            prevLogL = logL\n",
    "    def inference(self, s0):\n",
    "        #infected = np.zeros((len(self.succs)+1), bool)\n",
    "        infected = defaultdict(bool)\n",
    "        s = []\n",
    "        s.append(s0)\n",
    "        t = 1\n",
    "        stop = False\n",
    "        while s[t-1] != []:\n",
    "            s.append([])\n",
    "            for i in s[t-1]:\n",
    "                for j in self.succs[i].keys():\n",
    "                    if (not infected[j]) and (random.random() < self.succs[i][j]):\n",
    "                        infected[j] = True\n",
    "                        s[t].append(j)\n",
    "            t = t + 1\n",
    "        return s, infected\n",
    "    def predict(self, s0, nIter=10000):\n",
    "        #infected = np.zeros((len(self.succs)+1), int)\n",
    "        suminfected = defaultdict(float)\n",
    "        for i in xrange(nIter):\n",
    "            _, infected = self.inference(s0)\n",
    "            for j in infected.keys():\n",
    "                suminfected[j] = suminfected[j] + infected[j]\n",
    "        for j in xrange(len(suminfected)):\n",
    "            suminfected[j] = suminfected[j] / nIter\n",
    "        return suminfected\n",
    "    def score(self, episodes, nIter=10000):\n",
    "        score = 0\n",
    "        for episode in episodes:\n",
    "            times = np.unique(episode[:,1])\n",
    "            users = episode[:,0]\n",
    "            sources = users[[episode[:,1] == times[0]]]\n",
    "            pred = self.predict(sources, nIter)\n",
    "            rank = np.array(pred.keys())[(-np.array(pred.values())).argsort()]\n",
    "            scoreEp = 0\n",
    "            count = 0.0\n",
    "            for i,u in enumerate(rank):\n",
    "                if u in users:\n",
    "                    count += 1.0\n",
    "                    scoreEp += count / (i+1)\n",
    "            score += scoreEp / len(users)\n",
    "        score /= len(episodes)\n",
    "        return score        \n",
    "                "
   ]
  },
  {
   "cell_type": "code",
   "execution_count": 7,
   "metadata": {
    "collapsed": true
   },
   "outputs": [],
   "source": [
    "def loadEpisodes(datafile=\"./train\"):\n",
    "    f = open(datafile)\n",
    "    episodes = []\n",
    "    for episode in f.readlines():\n",
    "        ep = episode[:-3]\n",
    "        ep = np.array([ept.split(\":\") for ept in ep.split(\";\")], float)\n",
    "        ep = np.array(ep, int)\n",
    "        episodes.append(ep[ep[:,1].argsort()])\n",
    "    return np.array(episodes)"
   ]
  },
  {
   "cell_type": "code",
   "execution_count": 8,
   "metadata": {
    "collapsed": false
   },
   "outputs": [],
   "source": [
    "episodes = loadEpisodes()"
   ]
  },
  {
   "cell_type": "code",
   "execution_count": null,
   "metadata": {
    "collapsed": false
   },
   "outputs": [],
   "source": [
    "ic = IndependentCascade(maxIter=200)\n",
    "ic.createGraph(episodes)\n",
    "ic.fit(episodes)"
   ]
  },
  {
   "cell_type": "code",
   "execution_count": null,
   "metadata": {
    "collapsed": true
   },
   "outputs": [],
   "source": []
  }
 ],
 "metadata": {
  "kernelspec": {
   "display_name": "Python 2",
   "language": "python",
   "name": "python2"
  },
  "language_info": {
   "codemirror_mode": {
    "name": "ipython",
    "version": 2
   },
   "file_extension": ".py",
   "mimetype": "text/x-python",
   "name": "python",
   "nbconvert_exporter": "python",
   "pygments_lexer": "ipython2",
   "version": "2.7.9"
  }
 },
 "nbformat": 4,
 "nbformat_minor": 0
}
