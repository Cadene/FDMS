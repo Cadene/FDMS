{
 "cells": [
  {
   "cell_type": "code",
   "execution_count": 1,
   "metadata": {
    "collapsed": false
   },
   "outputs": [],
   "source": [
    "import numpy as np\n",
    "import random\n",
    "from collections import defaultdict"
   ]
  },
  {
   "cell_type": "code",
   "execution_count": 12,
   "metadata": {
    "collapsed": false
   },
   "outputs": [
    {
     "name": "stdout",
     "output_type": "stream",
     "text": [
      "\n"
     ]
    }
   ],
   "source": [
    "class IndependentCascade():\n",
    "    def __init__(self, delta=1e-5, maxIter=500):\n",
    "        self.preds = defaultdict(dict)\n",
    "        self.delta = delta\n",
    "        self.maxIter = maxIter\n",
    "        self.succs = defaultdict(dict)\n",
    "    def createGraph(self,episodes):\n",
    "        for ep in episodes:\n",
    "            succs = [ep[ep[:,1] > ep[i,1]][:,0] for i in xrange(len(ep))]\n",
    "            for i,succ in enumerate(succs):\n",
    "                for s in succ:\n",
    "                    r = random.random() / 20\n",
    "                    self.preds[int(s)][ep[i,0]] = r\n",
    "                    self.succs[ep[i,0]][int(s)] = r\n",
    "    def fit(self, episodes):\n",
    "        self.episodes = episodes\n",
    "        stop = False\n",
    "        it = 0\n",
    "        while not stop:\n",
    "            p = {}\n",
    "            \n",
    "            for d,episode in enumerate(episodes):\n",
    "                times = np.unique(episode[:,1])\n",
    "                users = episode[:,0]\n",
    "        \n",
    "                #Calcul de PDtu\n",
    "                p[d] = np.zeros((len(times),len(users)))\n",
    "                p[d][0,episode[:,1] == times[0]] = 1\n",
    "                \n",
    "                for t in xrange(1,len(times)):\n",
    "                    for u,user in enumerate(users):\n",
    "                        hasPreds = False\n",
    "                        pdtu = 1.\n",
    "                        #for v in episode[episode[:,1] == times[t-1]][:,0]:\n",
    "                        for v in episode[episode[:,1] < times[t]][:,0]:\n",
    "                            if (v in self.preds[user]):\n",
    "                                hasPreds = True\n",
    "                                pdtu = pdtu * (1 - self.preds[user][v])\n",
    "                        p[d][t,u] = 1-pdtu if hasPreds else 1\n",
    "    \n",
    "            #Maximisation de la vraisemblance    \n",
    "            dplus  = np.zeros((len(self.preds), len(self.preds)))\n",
    "            dminus = np.ones((len(self.preds), len(self.preds))) * len(episodes)\n",
    "            theta  = np.zeros((len(self.preds), len(self.preds)))\n",
    "            for d,episode in enumerate(episodes):\n",
    "                times = list(np.unique(episode[:,1]))\n",
    "                users = episode[:,0]\n",
    "                for u,uId in enumerate(users):\n",
    "                    for v,vId in enumerate(users):\n",
    "                        #if (episode[v,1] <= episode[u,1] + 1):\n",
    "                        #    dminus[uId, vId] = dminus[uId, vId] - 1\n",
    "                        dminus[uId, vId] = dminus[uId, vId] - 1\n",
    "                        #if (episode[v,1] == episode[u,1] + 1):\n",
    "                        if (episode[v,1] > episode[u,1]):\n",
    "                            dplus[uId, vId] = dplus[uId, vId] + 1\n",
    "                            tv = times.index(episode[v,1])\n",
    "                            theta[uId, vId] = theta[uId, vId] + (self.preds[vId][uId] / p[d][tv, v])\n",
    "            theta = theta / (dplus + dminus)\n",
    "            for u in self.preds:\n",
    "                for v in self.preds[u]:\n",
    "                    self.preds[u][v] = theta[v,u]\n",
    "                    self.succs[v][u] = theta[v,u]\n",
    "                    \n",
    "            #Calcul de la vraisemblance\n",
    "            logL = it + 1\n",
    "            print it, self.score(episodes)\n",
    "            \n",
    "            if (it != 0) and ((it == self.maxIter) or (logL - prevLogL < self.delta)):\n",
    "                stop = True\n",
    "            it = it+1\n",
    "            prevLogL = logL\n",
    "    def inference(self, s0):\n",
    "        #infected = np.zeros((len(self.succs)+1), bool)\n",
    "        infected = defaultdict(bool)\n",
    "        s = []\n",
    "        s.append(s0)\n",
    "        t = 1\n",
    "        stop = False\n",
    "        while s[t-1] != []:\n",
    "            s.append([])\n",
    "            for i in s[t-1]:\n",
    "                for j in self.succs[i].keys():\n",
    "                    if (not infected[j]) and (random.random() < self.succs[i][j]):\n",
    "                        infected[j] = True\n",
    "                        s[t].append(j)\n",
    "            t = t + 1\n",
    "        return s, infected\n",
    "    def predict(self, s0, nIter=10000):\n",
    "        #infected = np.zeros((len(self.succs)+1), int)\n",
    "        suminfected = defaultdict(float)\n",
    "        for i in xrange(nIter):\n",
    "            _, infected = self.inference(s0)\n",
    "            for j in infected.keys():\n",
    "                suminfected[j] = suminfected[j] + infected[j]\n",
    "        for j in xrange(len(suminfected)):\n",
    "            suminfected[j] = suminfected[j] / nIter\n",
    "        return suminfected\n",
    "    def score(self, episodes, nIter=10000):\n",
    "        score = 0\n",
    "        for episode in episodes:\n",
    "            times = np.unique(episode[:,1])\n",
    "            users = episode[:,0]\n",
    "            sources = users[[episode[:,1] == times[0]]]\n",
    "            pred = self.predict(sources, nIter)\n",
    "            rank = np.array(pred.keys())[(-np.array(pred.values())).argsort()]\n",
    "            scoreEp = 0\n",
    "            count = 0.0\n",
    "            for i,u in enumerate(rank):\n",
    "                if u in users:\n",
    "                    count += 1.0\n",
    "                    scoreEp += count / (i+1)\n",
    "            score += scoreEp / len(users)\n",
    "        score /= len(episodes)\n",
    "        return score        \n",
    "                "
   ]
  },
  {
   "cell_type": "code",
   "execution_count": 7,
   "metadata": {
    "collapsed": true
   },
   "outputs": [],
   "source": [
    "def loadEpisodes(datafile=\"./train\"):\n",
    "    f = open(datafile)\n",
    "    episodes = []\n",
    "    for episode in f.readlines():\n",
    "        ep = episode[:-3]\n",
    "        ep = np.array([ept.split(\":\") for ept in ep.split(\";\")], float)\n",
    "        ep = np.array(ep, int)\n",
    "        episodes.append(ep[ep[:,1].argsort()])\n",
    "    return np.array(episodes)"
   ]
  },
  {
   "cell_type": "code",
   "execution_count": 8,
   "metadata": {
    "collapsed": false
   },
   "outputs": [],
   "source": [
    "episodes = loadEpisodes()"
   ]
  },
  {
   "cell_type": "code",
   "execution_count": 14,
   "metadata": {
    "collapsed": false
   },
   "outputs": [
    {
     "name": "stdout",
     "output_type": "stream",
     "text": [
      " 0 0.151612457026\n",
      "1 0.16268295796\n",
      "2 0.167328845146\n",
      "3 0.169105928941\n",
      "4 0.170183896461\n",
      "5 0.170943509205\n",
      "6 0.171043598281\n",
      "7 0.171383170911\n",
      "8 0.171573940323\n",
      "9 0.171054774044\n",
      "10 0.171085376299\n",
      "11 0.171059956784\n",
      "12 0.171009200097\n",
      "13 0.170783393762\n",
      "14 0.171111261125\n",
      "15 0.171413562209\n",
      "16 0.170756435054\n",
      "17 0.171078267152\n",
      "18 0.171343513416\n",
      "19 0.170679662973\n",
      "20 0.170901721992\n",
      "21 0.171542363023\n",
      "22 0.171198466238\n",
      "23 0.171184203024\n",
      "24 0.171176427837\n",
      "25 0.17111533175\n",
      "26 0.171484538825\n",
      "27 0.170870232237\n",
      "28 0.171277762537\n",
      "29 0.170642210716\n",
      "30 0.171032318615\n",
      "31 0.171153021476\n",
      "32 0.170976615585\n",
      "33 0.171116904323\n",
      "34 0.171134211579\n",
      "35 0.17115729633\n",
      "36 0.170701307929\n",
      "37 0.170962377926\n",
      "38 0.171598030708\n",
      "39 0.171418661011\n",
      "40 0.17100928745\n",
      "41 0.170986721475\n",
      "42 0.171197053128\n",
      "43 0.171009823438\n",
      "44 0.171202019507\n",
      "45 0.170763707873\n",
      "46 0.171429911413\n",
      "47 0.170622221193\n",
      "48 0.170943005016\n",
      "49"
     ]
    },
    {
     "ename": "KeyboardInterrupt",
     "evalue": "",
     "output_type": "error",
     "traceback": [
      "\u001b[1;31m---------------------------------------------------------------------------\u001b[0m",
      "\u001b[1;31mKeyboardInterrupt\u001b[0m                         Traceback (most recent call last)",
      "\u001b[1;32m<ipython-input-14-ddd52569be94>\u001b[0m in \u001b[0;36m<module>\u001b[1;34m()\u001b[0m\n\u001b[0;32m      1\u001b[0m \u001b[0mic\u001b[0m \u001b[1;33m=\u001b[0m \u001b[0mIndependentCascade\u001b[0m\u001b[1;33m(\u001b[0m\u001b[0mmaxIter\u001b[0m\u001b[1;33m=\u001b[0m\u001b[1;36m200\u001b[0m\u001b[1;33m)\u001b[0m\u001b[1;33m\u001b[0m\u001b[0m\n\u001b[0;32m      2\u001b[0m \u001b[0mic\u001b[0m\u001b[1;33m.\u001b[0m\u001b[0mcreateGraph\u001b[0m\u001b[1;33m(\u001b[0m\u001b[0mepisodes\u001b[0m\u001b[1;33m)\u001b[0m\u001b[1;33m\u001b[0m\u001b[0m\n\u001b[1;32m----> 3\u001b[1;33m \u001b[0mic\u001b[0m\u001b[1;33m.\u001b[0m\u001b[0mfit\u001b[0m\u001b[1;33m(\u001b[0m\u001b[0mepisodes\u001b[0m\u001b[1;33m)\u001b[0m\u001b[1;33m\u001b[0m\u001b[0m\n\u001b[0m",
      "\u001b[1;32m<ipython-input-12-7482ad3eac10>\u001b[0m in \u001b[0;36mfit\u001b[1;34m(self, episodes)\u001b[0m\n\u001b[0;32m     64\u001b[0m             \u001b[1;31m#Calcul de la vraisemblance\u001b[0m\u001b[1;33m\u001b[0m\u001b[1;33m\u001b[0m\u001b[0m\n\u001b[0;32m     65\u001b[0m             \u001b[0mlogL\u001b[0m \u001b[1;33m=\u001b[0m \u001b[0mit\u001b[0m \u001b[1;33m+\u001b[0m \u001b[1;36m1\u001b[0m\u001b[1;33m\u001b[0m\u001b[0m\n\u001b[1;32m---> 66\u001b[1;33m             \u001b[1;32mprint\u001b[0m \u001b[0mit\u001b[0m\u001b[1;33m,\u001b[0m \u001b[0mself\u001b[0m\u001b[1;33m.\u001b[0m\u001b[0mscore\u001b[0m\u001b[1;33m(\u001b[0m\u001b[0mepisodes\u001b[0m\u001b[1;33m)\u001b[0m\u001b[1;33m\u001b[0m\u001b[0m\n\u001b[0m\u001b[0;32m     67\u001b[0m \u001b[1;33m\u001b[0m\u001b[0m\n\u001b[0;32m     68\u001b[0m             \u001b[1;32mif\u001b[0m \u001b[1;33m(\u001b[0m\u001b[0mit\u001b[0m \u001b[1;33m!=\u001b[0m \u001b[1;36m0\u001b[0m\u001b[1;33m)\u001b[0m \u001b[1;32mand\u001b[0m \u001b[1;33m(\u001b[0m\u001b[1;33m(\u001b[0m\u001b[0mit\u001b[0m \u001b[1;33m==\u001b[0m \u001b[0mself\u001b[0m\u001b[1;33m.\u001b[0m\u001b[0mmaxIter\u001b[0m\u001b[1;33m)\u001b[0m \u001b[1;32mor\u001b[0m \u001b[1;33m(\u001b[0m\u001b[0mlogL\u001b[0m \u001b[1;33m-\u001b[0m \u001b[0mprevLogL\u001b[0m \u001b[1;33m<\u001b[0m \u001b[0mself\u001b[0m\u001b[1;33m.\u001b[0m\u001b[0mdelta\u001b[0m\u001b[1;33m)\u001b[0m\u001b[1;33m)\u001b[0m\u001b[1;33m:\u001b[0m\u001b[1;33m\u001b[0m\u001b[0m\n",
      "\u001b[1;32m<ipython-input-12-7482ad3eac10>\u001b[0m in \u001b[0;36mscore\u001b[1;34m(self, episodes, nIter)\u001b[0m\n\u001b[0;32m    102\u001b[0m             \u001b[0musers\u001b[0m \u001b[1;33m=\u001b[0m \u001b[0mepisode\u001b[0m\u001b[1;33m[\u001b[0m\u001b[1;33m:\u001b[0m\u001b[1;33m,\u001b[0m\u001b[1;36m0\u001b[0m\u001b[1;33m]\u001b[0m\u001b[1;33m\u001b[0m\u001b[0m\n\u001b[0;32m    103\u001b[0m             \u001b[0msources\u001b[0m \u001b[1;33m=\u001b[0m \u001b[0musers\u001b[0m\u001b[1;33m[\u001b[0m\u001b[1;33m[\u001b[0m\u001b[0mepisode\u001b[0m\u001b[1;33m[\u001b[0m\u001b[1;33m:\u001b[0m\u001b[1;33m,\u001b[0m\u001b[1;36m1\u001b[0m\u001b[1;33m]\u001b[0m \u001b[1;33m==\u001b[0m \u001b[0mtimes\u001b[0m\u001b[1;33m[\u001b[0m\u001b[1;36m0\u001b[0m\u001b[1;33m]\u001b[0m\u001b[1;33m]\u001b[0m\u001b[1;33m]\u001b[0m\u001b[1;33m\u001b[0m\u001b[0m\n\u001b[1;32m--> 104\u001b[1;33m             \u001b[0mpred\u001b[0m \u001b[1;33m=\u001b[0m \u001b[0mself\u001b[0m\u001b[1;33m.\u001b[0m\u001b[0mpredict\u001b[0m\u001b[1;33m(\u001b[0m\u001b[0msources\u001b[0m\u001b[1;33m,\u001b[0m \u001b[0mnIter\u001b[0m\u001b[1;33m)\u001b[0m\u001b[1;33m\u001b[0m\u001b[0m\n\u001b[0m\u001b[0;32m    105\u001b[0m             \u001b[0mrank\u001b[0m \u001b[1;33m=\u001b[0m \u001b[0mnp\u001b[0m\u001b[1;33m.\u001b[0m\u001b[0marray\u001b[0m\u001b[1;33m(\u001b[0m\u001b[0mpred\u001b[0m\u001b[1;33m.\u001b[0m\u001b[0mkeys\u001b[0m\u001b[1;33m(\u001b[0m\u001b[1;33m)\u001b[0m\u001b[1;33m)\u001b[0m\u001b[1;33m[\u001b[0m\u001b[1;33m(\u001b[0m\u001b[1;33m-\u001b[0m\u001b[0mnp\u001b[0m\u001b[1;33m.\u001b[0m\u001b[0marray\u001b[0m\u001b[1;33m(\u001b[0m\u001b[0mpred\u001b[0m\u001b[1;33m.\u001b[0m\u001b[0mvalues\u001b[0m\u001b[1;33m(\u001b[0m\u001b[1;33m)\u001b[0m\u001b[1;33m)\u001b[0m\u001b[1;33m)\u001b[0m\u001b[1;33m.\u001b[0m\u001b[0margsort\u001b[0m\u001b[1;33m(\u001b[0m\u001b[1;33m)\u001b[0m\u001b[1;33m]\u001b[0m\u001b[1;33m\u001b[0m\u001b[0m\n\u001b[0;32m    106\u001b[0m             \u001b[0mscoreEp\u001b[0m \u001b[1;33m=\u001b[0m \u001b[1;36m0\u001b[0m\u001b[1;33m\u001b[0m\u001b[0m\n",
      "\u001b[1;32m<ipython-input-12-7482ad3eac10>\u001b[0m in \u001b[0;36mpredict\u001b[1;34m(self, s0, nIter)\u001b[0m\n\u001b[0;32m     90\u001b[0m         \u001b[0msuminfected\u001b[0m \u001b[1;33m=\u001b[0m \u001b[0mdefaultdict\u001b[0m\u001b[1;33m(\u001b[0m\u001b[0mfloat\u001b[0m\u001b[1;33m)\u001b[0m\u001b[1;33m\u001b[0m\u001b[0m\n\u001b[0;32m     91\u001b[0m         \u001b[1;32mfor\u001b[0m \u001b[0mi\u001b[0m \u001b[1;32min\u001b[0m \u001b[0mxrange\u001b[0m\u001b[1;33m(\u001b[0m\u001b[0mnIter\u001b[0m\u001b[1;33m)\u001b[0m\u001b[1;33m:\u001b[0m\u001b[1;33m\u001b[0m\u001b[0m\n\u001b[1;32m---> 92\u001b[1;33m             \u001b[0m_\u001b[0m\u001b[1;33m,\u001b[0m \u001b[0minfected\u001b[0m \u001b[1;33m=\u001b[0m \u001b[0mself\u001b[0m\u001b[1;33m.\u001b[0m\u001b[0minference\u001b[0m\u001b[1;33m(\u001b[0m\u001b[0ms0\u001b[0m\u001b[1;33m)\u001b[0m\u001b[1;33m\u001b[0m\u001b[0m\n\u001b[0m\u001b[0;32m     93\u001b[0m             \u001b[1;32mfor\u001b[0m \u001b[0mj\u001b[0m \u001b[1;32min\u001b[0m \u001b[0minfected\u001b[0m\u001b[1;33m.\u001b[0m\u001b[0mkeys\u001b[0m\u001b[1;33m(\u001b[0m\u001b[1;33m)\u001b[0m\u001b[1;33m:\u001b[0m\u001b[1;33m\u001b[0m\u001b[0m\n\u001b[0;32m     94\u001b[0m                 \u001b[0msuminfected\u001b[0m\u001b[1;33m[\u001b[0m\u001b[0mj\u001b[0m\u001b[1;33m]\u001b[0m \u001b[1;33m=\u001b[0m \u001b[0msuminfected\u001b[0m\u001b[1;33m[\u001b[0m\u001b[0mj\u001b[0m\u001b[1;33m]\u001b[0m \u001b[1;33m+\u001b[0m \u001b[0minfected\u001b[0m\u001b[1;33m[\u001b[0m\u001b[0mj\u001b[0m\u001b[1;33m]\u001b[0m\u001b[1;33m\u001b[0m\u001b[0m\n",
      "\u001b[1;32m<ipython-input-12-7482ad3eac10>\u001b[0m in \u001b[0;36minference\u001b[1;34m(self, s0)\u001b[0m\n\u001b[0;32m     81\u001b[0m             \u001b[1;32mfor\u001b[0m \u001b[0mi\u001b[0m \u001b[1;32min\u001b[0m \u001b[0ms\u001b[0m\u001b[1;33m[\u001b[0m\u001b[0mt\u001b[0m\u001b[1;33m-\u001b[0m\u001b[1;36m1\u001b[0m\u001b[1;33m]\u001b[0m\u001b[1;33m:\u001b[0m\u001b[1;33m\u001b[0m\u001b[0m\n\u001b[0;32m     82\u001b[0m                 \u001b[1;32mfor\u001b[0m \u001b[0mj\u001b[0m \u001b[1;32min\u001b[0m \u001b[0mself\u001b[0m\u001b[1;33m.\u001b[0m\u001b[0msuccs\u001b[0m\u001b[1;33m[\u001b[0m\u001b[0mi\u001b[0m\u001b[1;33m]\u001b[0m\u001b[1;33m.\u001b[0m\u001b[0mkeys\u001b[0m\u001b[1;33m(\u001b[0m\u001b[1;33m)\u001b[0m\u001b[1;33m:\u001b[0m\u001b[1;33m\u001b[0m\u001b[0m\n\u001b[1;32m---> 83\u001b[1;33m                     \u001b[1;32mif\u001b[0m \u001b[1;33m(\u001b[0m\u001b[1;32mnot\u001b[0m \u001b[0minfected\u001b[0m\u001b[1;33m[\u001b[0m\u001b[0mj\u001b[0m\u001b[1;33m]\u001b[0m\u001b[1;33m)\u001b[0m \u001b[1;32mand\u001b[0m \u001b[1;33m(\u001b[0m\u001b[0mrandom\u001b[0m\u001b[1;33m.\u001b[0m\u001b[0mrandom\u001b[0m\u001b[1;33m(\u001b[0m\u001b[1;33m)\u001b[0m \u001b[1;33m<\u001b[0m \u001b[0mself\u001b[0m\u001b[1;33m.\u001b[0m\u001b[0msuccs\u001b[0m\u001b[1;33m[\u001b[0m\u001b[0mi\u001b[0m\u001b[1;33m]\u001b[0m\u001b[1;33m[\u001b[0m\u001b[0mj\u001b[0m\u001b[1;33m]\u001b[0m\u001b[1;33m)\u001b[0m\u001b[1;33m:\u001b[0m\u001b[1;33m\u001b[0m\u001b[0m\n\u001b[0m\u001b[0;32m     84\u001b[0m                         \u001b[0minfected\u001b[0m\u001b[1;33m[\u001b[0m\u001b[0mj\u001b[0m\u001b[1;33m]\u001b[0m \u001b[1;33m=\u001b[0m \u001b[0mTrue\u001b[0m\u001b[1;33m\u001b[0m\u001b[0m\n\u001b[0;32m     85\u001b[0m                         \u001b[0ms\u001b[0m\u001b[1;33m[\u001b[0m\u001b[0mt\u001b[0m\u001b[1;33m]\u001b[0m\u001b[1;33m.\u001b[0m\u001b[0mappend\u001b[0m\u001b[1;33m(\u001b[0m\u001b[0mj\u001b[0m\u001b[1;33m)\u001b[0m\u001b[1;33m\u001b[0m\u001b[0m\n",
      "\u001b[1;31mKeyboardInterrupt\u001b[0m: "
     ]
    }
   ],
   "source": [
    "ic = IndependentCascade(maxIter=10)\n",
    "ic.createGraph(episodes)\n",
    "ic.fit(episodes)"
   ]
  },
  {
   "cell_type": "code",
   "execution_count": null,
   "metadata": {
    "collapsed": true
   },
   "outputs": [],
   "source": []
  }
 ],
 "metadata": {
  "kernelspec": {
   "display_name": "Python 2",
   "language": "python",
   "name": "python2"
  },
  "language_info": {
   "codemirror_mode": {
    "name": "ipython",
    "version": 2
   },
   "file_extension": ".py",
   "mimetype": "text/x-python",
   "name": "python",
   "nbconvert_exporter": "python",
   "pygments_lexer": "ipython2",
   "version": "2.7.9"
  }
 },
 "nbformat": 4,
 "nbformat_minor": 0
}
