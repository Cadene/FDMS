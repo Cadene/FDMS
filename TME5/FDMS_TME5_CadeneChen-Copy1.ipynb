{
 "cells": [
  {
   "cell_type": "markdown",
   "metadata": {},
   "source": [
    "# TP5"
   ]
  },
  {
   "cell_type": "markdown",
   "metadata": {},
   "source": [
    "## Imports"
   ]
  },
  {
   "cell_type": "code",
   "execution_count": 1,
   "metadata": {
    "collapsed": true
   },
   "outputs": [],
   "source": [
    "#!/usr/bin/env python\n",
    "# -*- coding: utf-8 -*-\n",
    "\n",
    "import numpy as np\n",
    "import matplotlib.pyplot as plt"
   ]
  },
  {
   "cell_type": "markdown",
   "metadata": {},
   "source": [
    "## Chargement des données\n",
    "\n",
    "Les fonctions pour charger les bases Movie Lens 100k et Movie Lens 1M.\n",
    "On récupère un dictionnaire pour les scores et un dictionnaire pour les dates.\n",
    "Le première index de ces dictionnaires est l'identifiant de l'utilisateur, et le second les films notés."
   ]
  },
  {
   "cell_type": "code",
   "execution_count": null,
   "metadata": {
    "collapsed": false
   },
   "outputs": [],
   "source": [
    "def loadMovieLens(path='./data100k'):\n",
    "    # Get movie titles\n",
    "    movies={}\n",
    "    for line in open(path+'/u.item'):\n",
    "        (id,title)=line.split('|')[0:2]\n",
    "        movies[id]=title\n",
    "    # Load data\n",
    "    prefs={} # Un dictionnaire User > Item > Rating\n",
    "    times={} # Un dictionnaire User > Item > Timestamps\n",
    "    for line in open(path+'/u.data'):\n",
    "        (user,movieid,rating,ts)=line.split('\\t')\n",
    "        prefs.setdefault(user,{})\n",
    "        prefs[user][movies[movieid]]=float(rating)\n",
    "        times.setdefault(user,{})\n",
    "        times[user][movies[movieid]]=float(ts)\n",
    "    return prefs, times"
   ]
  },
  {
   "cell_type": "code",
   "execution_count": null,
   "metadata": {
    "collapsed": true
   },
   "outputs": [],
   "source": [
    "def loadMovieLens1M(path='./data1m'):\n",
    "    # Get movie titles\n",
    "    movies={}\n",
    "    for line in open(path+'/movies.dat'):\n",
    "        id,title=line.split('::')[0:2]\n",
    "        movies[id]=title\n",
    "    # Load data\n",
    "    prefs={}\n",
    "    times={}\n",
    "    for line in open(path+'/ratings.dat'):\n",
    "        (user,movieid,rating,ts)=line.split('::')\n",
    "        prefs.setdefault(user,{})\n",
    "        prefs[user][movies[movieid]]=float(rating)\n",
    "        times.setdefault(user,{})\n",
    "        times[user][movies[movieid]]=float(ts)\n",
    "    return prefs, times"
   ]
  },
  {
   "cell_type": "markdown",
   "metadata": {},
   "source": [
    "## Représentations des données\n",
    "\n",
    "Les matrices des scores Utilisateurs/Films sont des matrices de grandes dimensions mais sparses.\n",
    "Afin de les manipuler efficacement, on emploiera 3 représentations différentes en même temps:\n",
    "- Le dictionnaire des scores par utilisateurs: User > Item > Value\n",
    "- Le dictionnaire des scores par films: Item > User > Value \n",
    "- La liste des triplets [User, Item, Value]"
   ]
  },
  {
   "cell_type": "code",
   "execution_count": null,
   "metadata": {
    "collapsed": true
   },
   "outputs": [],
   "source": [
    "# Recupère une représentation des données sous la forme triplets [user, item, value] a partir d'un dictionnaire [User > item > value]\n",
    "def getCouplesUsersItems(data):\n",
    "    couples = []\n",
    "    for u in data.keys():\n",
    "        for i in data[u].keys():\n",
    "            couples.append([u,i,data[u][i]])\n",
    "    return couples\n",
    "\n",
    "# Construit le dictionnaire des utilisateurs a partir des triplets [user, item, note]\n",
    "def buildUsersDict(couples):\n",
    "    dicUsers = {}\n",
    "    for c in couples:\n",
    "        if not c[0] in dicUsers.keys():\n",
    "            dicUsers[c[0]] = {}\n",
    "        dicUsers[c[0]][c[1]] = float(c[2])\n",
    "    return dicUsers\n",
    "\n",
    "# Construit le dictionnaire des objets a partir des triplets [user, item, note]\n",
    "def buildItemsDict(couples):\n",
    "    dicItems = {}\n",
    "    for c in couples:\n",
    "        if not c[1] in dicItems:\n",
    "            dicItems[c[1]] = {}\n",
    "        dicItems[c[1]][c[0]] = float(c[2])\n",
    "    return dicItems"
   ]
  },
  {
   "cell_type": "markdown",
   "metadata": {},
   "source": [
    "## Données de temps\n",
    "\n",
    "Afin d'exploiter les données temporelles, on discrétise le temps en bins et on construit un vecteur qui a chaque triplets [user, item, value] associe le bins temporel correspondant."
   ]
  },
  {
   "cell_type": "code",
   "execution_count": null,
   "metadata": {
    "collapsed": true
   },
   "outputs": [],
   "source": [
    "def getTimeBins(couples, timedic, nbins):\n",
    "    timestamps = np.zeros(len(couples))\n",
    "    for i,c in enumerate(couples):\n",
    "        timestamps[i] = timedic[c[0]][c[1]]\n",
    "    time_bins = np.linspace(np.min(timestamps), np.max(timestamps), nbins+1)\n",
    "    times = np.zeros(len(couples),int)\n",
    "    for i in xrange(1,len(time_bins)):\n",
    "        times = times + (timestamps > time_bins[i])\n",
    "    return times"
   ]
  },
  {
   "cell_type": "markdown",
   "metadata": {},
   "source": [
    "## Séparation des données en Train / Test\n",
    "\n",
    "Pour pouvoir séparer les données en ensembles de Train et de Test, on utilisera la liste des triplets [User, Item, Scores]."
   ]
  },
  {
   "cell_type": "code",
   "execution_count": null,
   "metadata": {
    "collapsed": false
   },
   "outputs": [],
   "source": [
    "# Split l'ensemble des triplets [user, item, note] en testProp% données de test et (1 - testProp) données de train\n",
    "def splitTrainTest(couples,testProp):\n",
    "    perm = np.random.permutation(couples)\n",
    "    splitIndex = int(testProp * len(couples))\n",
    "    return perm[splitIndex:], perm[:splitIndex]"
   ]
  },
  {
   "cell_type": "markdown",
   "metadata": {},
   "source": [
    "# Modèles\n",
    "\n",
    "On implémente ici les différents modèles. Les baselines prédisent simplement la note moyenne pour un utilisateur (ou pour un film) donné. Les modèles de factorisation matricielles tentent d'approximer les valeurs connues de la matrice des scores par un produit de deux matrices de dimensions inférieurs."
   ]
  },
  {
   "cell_type": "markdown",
   "metadata": {},
   "source": [
    "## Factorisation matricielle sans biais\n",
    "\n",
    "On calcule les deux matrices P et Q tel que pour les exemples connus, PQ ~= X, où X est la matrice des scores.\n",
    "Pour prédire, il suffit alors de lire dans la matrice PQ les nouveaux exemples."
   ]
  },
  {
   "cell_type": "code",
   "execution_count": 2,
   "metadata": {
    "collapsed": false
   },
   "outputs": [],
   "source": [
    "class matrixFactorisation():\n",
    "    def __init__(self, k, lambd=0.2, eps=1e-5, maxIter=2000, alternate=0):\n",
    "        self.k = k\n",
    "        self.lambd = lambd\n",
    "        self.eps = eps\n",
    "        self.maxIter = maxIter\n",
    "        self.alternate = alternate #Pour l'optimisation alternée: 0 si non.\n",
    "    def fit(self, dataUsers, dataItems, couples):\n",
    "        self.p = {}\n",
    "        self.q = {}\n",
    "        self.loss = []\n",
    "        #Choix du paramètre a optimisé en cas d'optimisation alternée\n",
    "        optimP = True\n",
    "        optimQ = (self.alternate == 0)\n",
    "        for i in xrange(self.maxIter):\n",
    "            loss = 0\n",
    "            for j in xrange(len(couples)):\n",
    "                #choix d'une entrée aléatoire\n",
    "                r = np.random.randint(len(couples)) \n",
    "                user = couples[r][0]\n",
    "                item = couples[r][1]\n",
    "                # initialisation des nouveaux vecteurs p et q\n",
    "                if not user in self.p:\n",
    "                    self.p[user] = np.random.rand(1,self.k)\n",
    "                if not item in self.q:\n",
    "                    self.q[item] = np.random.rand(self.k,1)\n",
    "                # Descente de gradient\n",
    "                tmp = dataUsers[user][item] - self.p[user].dot(self.q[item])[0][0]\n",
    "                if (optimP):\n",
    "                    self.p[user] = (1 - self.lambd * self.eps) * self.p[user] + self.eps * 2 * tmp * self.q[item].transpose()\n",
    "                if (optimQ):\n",
    "                    self.q[item] = (1 - self.lambd * self.eps) * self.q[item] + self.eps * 2 * tmp * self.p[user].transpose()\n",
    "                loss = loss + tmp*tmp #(Sans le terme de régularisation)\n",
    "            self.loss.append(loss)\n",
    "            # Optimisation alternée\n",
    "            if (self.alternate != 0):\n",
    "                if (i % self.alternate == 0):\n",
    "                    optimP = optimQ\n",
    "                    optimQ = 1 - optimQ\n",
    "                    print i, loss / len(couples)\n",
    "            else:\n",
    "                if (i % 100 == 0):\n",
    "                    print i, loss / len(couples)\n",
    "    def predict(self, couplesTest):\n",
    "        pred = np.zeros(len(couplesTest))\n",
    "        for ind,c in enumerate(couplesTest):\n",
    "            pred[ind] = self.p[c[0]].dot(self.q[c[1]])[0][0]\n",
    "        return pred"
   ]
  },
  {
   "cell_type": "markdown",
   "metadata": {},
   "source": [
    "# Tests les données Movie Lens 100k\n",
    "\n",
    "Les données Movie Lens 100k comprennent 100 000 scores données par 1000 utilisateurs sur 1700 films.\n",
    "\n",
    "## Préparation des données\n",
    "\n",
    "On extrait aléatoirement une portion (20%) des données pour constituer la base de test, et le reste sera utilisé en apprentissage.\n",
    "\n",
    "Comme on ne souhaite ne pas évaluer les objets et les utilisateurs qui n'ont jamais été rencontré en apprentissage, on retire les couples correspondants de l'ensemble de test.\n",
    "\n",
    "Reste ensuite à reconstruire les deux dictionnaires a partir de ces liste de couples."
   ]
  },
  {
   "cell_type": "code",
   "execution_count": null,
   "metadata": {
    "collapsed": true
   },
   "outputs": [],
   "source": [
    "# Chargement\n",
    "data, timestamps = loadMovieLens()\n",
    "\n",
    "# Récupérer la représentation en liste de triplets\n",
    "couples = getCouplesUsersItems(data)\n",
    "\n",
    "# La séparer en ensemble d'apprentissage et de test\n",
    "trainCouples, testCouples = splitTrainTest(couples,.20)\n",
    "\n",
    "# Reconstruire les dictionnaires pour l'ensemble d'apprentissage\n",
    "trainUsers = buildUsersDict(trainCouples)\n",
    "trainItems = buildItemsDict(trainCouples)\n",
    "\n",
    "# Supprimer de l'ensemble de test les éléments inconnus en apprentissage\n",
    "toDel = []\n",
    "for i,c in enumerate(testCouples):\n",
    "    if not c[0] in trainUsers:\n",
    "        toDel.append(i)\n",
    "    elif not c[1] in trainItems:\n",
    "        toDel.append(i)\n",
    "testCouples = np.delete(testCouples, toDel, 0)\n",
    "\n",
    "# Reconstruire les dictionnaires pour l'ensemble de test\n",
    "testUsers  = buildUsersDict(testCouples)\n",
    "testItems  = buildItemsDict(testCouples)\n",
    "\n",
    "# taille des données\n",
    "#print len(trainUsers), len(testUsers)\n",
    "#print len(trainItems), len(testItems)"
   ]
  },
  {
   "cell_type": "markdown",
   "metadata": {},
   "source": [
    "## Factorisation matricielle sans biais\n",
    "\n",
    "Après apprentissage, la factorisation matricielle donne une erreur moyenne en test de 0.9\n",
    "Il est meilleur que les baselines de 0.1 point.\n",
    "On note que le loss en apprentissage est de 0.84. \n",
    "Il est possible que l'on obtienne de meilleurs score de généralisation en test en augmentant la régularisation mais au vu du score actuel en apprentissage, le gain devrait rester assez faible."
   ]
  },
  {
   "cell_type": "code",
   "execution_count": null,
   "metadata": {
    "collapsed": false
   },
   "outputs": [],
   "source": [
    "model3 = matrixFactorisation(10, alternate=0)\n",
    "model3.fit(trainUsers, trainItems, trainCouples)"
   ]
  },
  {
   "cell_type": "code",
   "execution_count": null,
   "metadata": {
    "collapsed": true
   },
   "outputs": [],
   "source": [
    "plt.figure()\n",
    "plt.plot(model3.loss)\n",
    "plt.show()"
   ]
  },
  {
   "cell_type": "code",
   "execution_count": null,
   "metadata": {
    "collapsed": false,
    "scrolled": true
   },
   "outputs": [],
   "source": [
    "pred = model3.predict(testCouples)\n",
    "print \"Erreur de test:\", ((pred - np.array(testCouples[:,2], float)) ** 2).mean()"
   ]
  },
  {
   "cell_type": "markdown",
   "metadata": {
    "collapsed": true
   },
   "source": [
    "# Experiences sur les données Movie Lens 1M\n",
    "\n",
    "Le dataset Movie Lens 1M contient 1 million d'entrées, données par 6000 utiilisateurs sur 4000 films.\n",
    "\n",
    "Une remarque que l'on peut déjà faire est que la matrice des scores est \"moins sparse\" que celle issue de la base 100k.\n",
    "\n",
    "En effet, pour la base 100k on a 100000 notes pour une matrice 1000x1700, soit un remplissage de 17% de la matrice.\n",
    "\n",
    "Pour la base 1M, on a 1 000 000 de notes pour une matrice 6000x4000, soit 24% de remplissage."
   ]
  },
  {
   "cell_type": "markdown",
   "metadata": {
    "collapsed": true
   },
   "source": [
    "## Préparation des données"
   ]
  },
  {
   "cell_type": "code",
   "execution_count": null,
   "metadata": {
    "collapsed": false
   },
   "outputs": [],
   "source": [
    "# Chargement\n",
    "data, timestamps = loadMovieLens1M()\n",
    "\n",
    "# Récupérer la représentation en liste de triplets\n",
    "couples = getCouplesUsersItems(data)\n",
    "\n",
    "# Séparer en ensemble d'apprentissage et de test\n",
    "trainCouples, testCouples = splitTrainTest(couples,.20)\n",
    "\n",
    "# Reconstruire les dictionnaires pour l'ensemble d'apprentissage\n",
    "trainUsers = buildUsersDict(trainCouples)\n",
    "trainItems = buildItemsDict(trainCouples)\n",
    "\n",
    "# Supprimer de l'ensemble de test les éléments inconnus en apprentissage\n",
    "toDel = []\n",
    "for i,c in enumerate(testCouples):\n",
    "    if not c[0] in trainUsers:\n",
    "        toDel.append(i)\n",
    "    elif not c[1] in trainItems:\n",
    "        toDel.append(i)\n",
    "testCouples = np.delete(testCouples, toDel, 0)\n",
    "\n",
    "# Reconstruire les dictionnaires pour l'ensemble de test\n",
    "testUsers  = buildUsersDict(testCouples)\n",
    "testItems  = buildItemsDict(testCouples)\n",
    "\n",
    "# taille des données\n",
    "#print len(trainUsers), len(testUsers)\n",
    "#print len(trainItems), len(testItems)"
   ]
  },
  {
   "cell_type": "markdown",
   "metadata": {},
   "source": [
    "## Factorisation Matricielle\n",
    "\n",
    "Avec un score en apprentissage de 0.82 et de généralisation de 0.85, on peut estimer que le paramètre de régularisation choisi (lambda = 0.2) est raisonnable pour ce problème. La factorisation matricielle est aussi meilleure que celle de la base 100k, probablement parceque la matrice d'apprentissage est moins sparse."
   ]
  },
  {
   "cell_type": "code",
   "execution_count": null,
   "metadata": {
    "collapsed": false
   },
   "outputs": [],
   "source": [
    "model8 = matrixFactorisation(10, alternate=0, maxIter=1000)\n",
    "model8.fit(trainUsers, trainItems, trainCouples)"
   ]
  },
  {
   "cell_type": "code",
   "execution_count": null,
   "metadata": {
    "collapsed": true
   },
   "outputs": [],
   "source": [
    "plt.figure()\n",
    "plt.plot(model8.loss)\n",
    "plt.show()"
   ]
  },
  {
   "cell_type": "code",
   "execution_count": null,
   "metadata": {
    "collapsed": false
   },
   "outputs": [],
   "source": [
    "pred = model8.predict(testCouples)\n",
    "print ((pred - np.array(testCouples[:,2], float)) ** 2).mean()"
   ]
  },
  {
   "cell_type": "markdown",
   "metadata": {},
   "source": [
    "# Conclusion\n",
    "\n",
    "Dans ce travail, nous avons implémenté des modèles de filtrage collaboratif que nous avons ensuite chercher à évaluer.\n",
    "Si on a observé qu'un modèle simple de factorisation matricielle pouvait obtenir des résultats concluants, meilleurs qu'une baseline naïve, nous n'avons pu démontré d'intérêt pratiques des modèles avec biais.\n",
    "\n",
    "Cependant, nous avons observés que si nos modèles sans biais avaient des scores similaires en apprentissage qu'en généralisation, ce n'était pas le cas de nos modèles avec biais qui obtiennent de bien meilleurs scores en apprentissage qui ne se traduisent pas en test. On peut en déduire que nous n'avons pas déterminé les bons hyperparamètres pour permettre une bonne généralisation, et que vraisemblablement on peut encore augmenter le score en généralisation de nos modèles avec biais.\n",
    "\n",
    "Enfin, nous n'avons eu le temps ni d'évaluer les modèles avec biais temporel, ni l'influence de la dimension de factorisation matricielle, que l'on peut aussi voir comme une forme de régularisation."
   ]
  },
  {
   "cell_type": "code",
   "execution_count": null,
   "metadata": {
    "collapsed": true
   },
   "outputs": [],
   "source": []
  },
  {
   "cell_type": "code",
   "execution_count": null,
   "metadata": {
    "collapsed": true
   },
   "outputs": [],
   "source": []
  },
  {
   "cell_type": "code",
   "execution_count": null,
   "metadata": {
    "collapsed": true
   },
   "outputs": [],
   "source": []
  },
  {
   "cell_type": "code",
   "execution_count": null,
   "metadata": {
    "collapsed": true
   },
   "outputs": [],
   "source": []
  },
  {
   "cell_type": "code",
   "execution_count": 79,
   "metadata": {
    "collapsed": false
   },
   "outputs": [
    {
     "name": "stdout",
     "output_type": "stream",
     "text": [
      "[[  1.]\n",
      " [  2.]\n",
      " [  3.]\n",
      " [ 10.]]\n"
     ]
    }
   ],
   "source": [
    "sigma = np.array([1,2,3,10],float)\n",
    "sigma = sigma.reshape(4,1)\n",
    "print sigma"
   ]
  },
  {
   "cell_type": "code",
   "execution_count": 80,
   "metadata": {
    "collapsed": false
   },
   "outputs": [
    {
     "name": "stdout",
     "output_type": "stream",
     "text": [
      "[[ 1.  2.  3.]\n",
      " [ 4.  5.  6.]\n",
      " [ 1.  3.  2.]\n",
      " [ 4.  5.  6.]]\n"
     ]
    }
   ],
   "source": [
    "A = np.array([[1,2,3],[4,5,6],[1,3,2],[4,5,6]], float)\n",
    "print A"
   ]
  },
  {
   "cell_type": "code",
   "execution_count": 82,
   "metadata": {
    "collapsed": false
   },
   "outputs": [
    {
     "name": "stdout",
     "output_type": "stream",
     "text": [
      "[[  0.  27.   2.  27.]\n",
      " [ 27.   0.  29.   0.]\n",
      " [  2.  29.   0.  29.]\n",
      " [ 27.   0.  29.   0.]]\n"
     ]
    }
   ],
   "source": [
    "norm = np.sum(A**2,1)\n",
    "norm = np.reshape(norm, (1, np.shape(norm)[0]))\n",
    "distance = norm.T + norm - 2 * A.dot(A.T)\n",
    "print distance\n",
    "\n",
    "#for i in xrange(4):\n",
    "#    for j in xrange(4):\n",
    "#        print (((A[i] - A[j])**2).sum() - distance[i,j])"
   ]
  },
  {
   "cell_type": "code",
   "execution_count": 85,
   "metadata": {
    "collapsed": false
   },
   "outputs": [
    {
     "name": "stdout",
     "output_type": "stream",
     "text": [
      "[[  2.71826157e+00   3.72662540e-06   9.99992547e-01   3.72662540e-06]\n",
      " [  3.22548551e-02   9.42625039e-01   2.51201064e-02   9.42625039e-01]\n",
      " [  6.91438454e-01   1.54280773e-01   7.72695657e-01   1.54280773e-01]\n",
      " [  3.19021333e-01   3.65131650e-01   3.15847017e-01   3.65131650e-01]]\n"
     ]
    }
   ],
   "source": [
    "p = np.exp(- distance / (2. * (sigma**2)))\n",
    "#print p\n",
    "#print (p - np.eye(4)).sum(1).reshape(4,1)\n",
    "\n",
    "pisj = p / (p - np.eye(4)).sum(1).reshape(4,1)\n",
    "\n",
    "print pisj\n",
    "\n",
    "#for i in xrange(4):\n",
    "#    s = 0\n",
    "#    for k in xrange(4):\n",
    "#        if i != k:\n",
    "#            s += np.exp(-distance[i,k]/(2*(sigma[i,0]**2)))\n",
    "#    for j in xrange(4):\n",
    "#        print pisj[i,j] - (np.exp(-distance[i,j]/(2*(sigma[i,0]**2)))/s)"
   ]
  },
  {
   "cell_type": "code",
   "execution_count": 86,
   "metadata": {
    "collapsed": false,
    "scrolled": true
   },
   "outputs": [
    {
     "name": "stdout",
     "output_type": "stream",
     "text": [
      "[-2.86788526  1.02714144  0.94614824  1.02714144]\n"
     ]
    }
   ],
   "source": [
    "entropy = -(pisj * np.log2(pisj)).sum(0)\n",
    "print entropy"
   ]
  },
  {
   "cell_type": "markdown",
   "metadata": {},
   "source": [
    "  $-\\sum_j p_{j|i} log_2(p_{j|i})$ \n",
    "  \n",
    "$= -\\sum_j p_{j|i} log_2(\\frac{exp(-d(x_i, x_j)^2 / (2\\sigma^2_i)}{\\sum_{k\\ne i}exp(-d(x_i, x_k)^2 / (2\\sigma^2_i)} )$\n",
    "\n",
    "$= -\\sum_j p_{j|i} (log_2(exp(-d(x_i, x_j)^2 / (2\\sigma^2_i)) - log_2(\\sum_{k\\ne i}exp(-d(x_i, x_k)^2 / (2\\sigma^2_i))) )$\n",
    "\n",
    "$= -\\sum_j p_{j|i} (exp(-d(x_i, x_j)^2 / (2\\sigma^2_i))/ln(2) - log_2(\\sum_{k\\ne i}exp(-d(x_i, x_k)^2 / (2\\sigma^2_i))) )$"
   ]
  },
  {
   "cell_type": "code",
   "execution_count": 77,
   "metadata": {
    "collapsed": false
   },
   "outputs": [
    {
     "name": "stdout",
     "output_type": "stream",
     "text": [
      "[              nan               nan -6738487.12685308 -6738487.12685308\n",
      " -6738487.12685308 -6738487.12685308 -6738487.12685308 -6738487.12685308\n",
      "               nan               nan]\n"
     ]
    },
    {
     "name": "stderr",
     "output_type": "stream",
     "text": [
      "/usr/local/lib/python2.7/dist-packages/ipykernel/__main__.py:9: RuntimeWarning: divide by zero encountered in log2\n",
      "/usr/local/lib/python2.7/dist-packages/ipykernel/__main__.py:9: RuntimeWarning: invalid value encountered in multiply\n"
     ]
    }
   ],
   "source": [
    "def perp(data, sigma):\n",
    "    norm = np.sum(data**2,1)\n",
    "    norm = np.reshape(norm, (1, np.shape(norm)[0]))\n",
    "    distance = norm.T + norm - 2 * data.dot(data.T)\n",
    "    p = np.exp(- distance / (2. * (sigma**2)))\n",
    "    pisj = p / (p - np.eye(10)).sum(1).reshape(10,1)\n",
    "    entropy = -(pisj * np.log2(pisj)).sum(0)\n",
    "    return entropy\n",
    "print perp(A, sigma)"
   ]
  },
  {
   "cell_type": "code",
   "execution_count": 78,
   "metadata": {
    "collapsed": false
   },
   "outputs": [
    {
     "name": "stdout",
     "output_type": "stream",
     "text": [
      "[              nan               nan -6738487.12685308 -6738487.12685308\n",
      " -6738487.12685308 -6738487.12685308 -6738487.12685308 -6738487.12685308\n",
      "               nan               nan]\n",
      "[-141.78812924  -56.03384214  -55.53175552  -55.53202366  -55.53202366\n",
      "  -55.53202366  -55.53202366  -55.53175552  -56.03384214 -141.78812924]\n",
      "[-8.97875163 -2.0167422  -1.42803277 -1.4568077  -1.45704031 -1.45704031\n",
      " -1.4568077  -1.42803277 -2.0167422  -8.97875163]\n",
      "[-1.6884833   0.62029314  1.36670578  1.28760176  1.27851107  1.27851107\n",
      "  1.28760176  1.36670578  0.62029314 -1.6884833 ]\n",
      "[ 0.14538689  1.37705668  2.15843492  2.12703618  2.08832637  2.08832637\n",
      "  2.12703618  2.15843492  1.37705668  0.14538689]\n",
      "[ 0.92808892  1.78169703  2.50984921  2.59454227  2.53968208  2.53968208\n",
      "  2.59454227  2.50984921  1.78169703  0.92808892]\n",
      "[ 1.35918804  2.0472798   2.70321051  2.89850664  2.87310155  2.87310155\n",
      "  2.89850664  2.70321051  2.0472798   1.35918804]\n",
      "[ 1.63602334  2.23862531  2.83197707  3.10752257  3.14532975  3.14532975\n",
      "  3.10752257  2.83197707  2.23862531  1.63602334]\n",
      "[ 1.83320948  2.38573829  2.93261222  3.26105515  3.36712547  3.36712547\n",
      "  3.26105515  2.93261222  2.38573829  1.83320948]\n",
      "[ 1.98504386  2.50587181  3.0206241   3.38122799  3.54088747  3.54088747\n",
      "  3.38122799  3.0206241   2.50587181  1.98504386]\n",
      "[ 3.52202182  3.52211393  3.52218302  3.52222908  3.52225211  3.52225211\n",
      "  3.52222908  3.52218302  3.52211393  3.52202182]\n",
      "2.32192809489\n"
     ]
    },
    {
     "name": "stderr",
     "output_type": "stream",
     "text": [
      "/usr/local/lib/python2.7/dist-packages/ipykernel/__main__.py:9: RuntimeWarning: divide by zero encountered in log2\n",
      "/usr/local/lib/python2.7/dist-packages/ipykernel/__main__.py:9: RuntimeWarning: invalid value encountered in multiply\n"
     ]
    }
   ],
   "source": [
    "A = np.array(range(30),float).reshape(10,3)\n",
    "sigma = np.ones((10,1))\n",
    "print perp(A,sigma)\n",
    "sigma = np.ones((10,1))*2\n",
    "print perp(A,sigma)\n",
    "sigma = np.ones((10,1))*3\n",
    "print perp(A,sigma)\n",
    "sigma = np.ones((10,1))*4\n",
    "print perp(A,sigma)\n",
    "sigma = np.ones((10,1))*5\n",
    "print perp(A,sigma)\n",
    "sigma = np.ones((10,1))*6\n",
    "print perp(A,sigma)\n",
    "sigma = np.ones((10,1))*7\n",
    "print perp(A,sigma)\n",
    "sigma = np.ones((10,1))*8\n",
    "print perp(A,sigma)\n",
    "sigma = np.ones((10,1))*9\n",
    "print perp(A,sigma)\n",
    "sigma = np.ones((10,1))*10\n",
    "print perp(A,sigma)\n",
    "sigma = np.ones((10,1))*1500\n",
    "print perp(A,sigma)\n",
    "\n",
    "print np.log2(5)"
   ]
  },
  {
   "cell_type": "code",
   "execution_count": 60,
   "metadata": {
    "collapsed": false
   },
   "outputs": [
    {
     "name": "stdout",
     "output_type": "stream",
     "text": [
      "[-2.86788526  1.02714144  0.94614824  1.02714144]\n"
     ]
    }
   ],
   "source": [
    "print perp(A, sigma)"
   ]
  },
  {
   "cell_type": "code",
   "execution_count": null,
   "metadata": {
    "collapsed": false
   },
   "outputs": [],
   "source": [
    "np.sum(p - np.eye(np.shape(p)[0]),0)"
   ]
  },
  {
   "cell_type": "code",
   "execution_count": null,
   "metadata": {
    "collapsed": false
   },
   "outputs": [],
   "source": [
    "ps=p / np.sum(p - np.eye(np.shape(p)[0]),0)\n",
    "print ps"
   ]
  },
  {
   "cell_type": "code",
   "execution_count": null,
   "metadata": {
    "collapsed": false
   },
   "outputs": [],
   "source": [
    "(ps + ps.T) / (2*np.shape(ps)[0])"
   ]
  },
  {
   "cell_type": "code",
   "execution_count": 411,
   "metadata": {
    "collapsed": false,
    "scrolled": true
   },
   "outputs": [
    {
     "name": "stdout",
     "output_type": "stream",
     "text": [
      "[[  1.   2.   3.]\n",
      " [  1.   4.   3.]\n",
      " [  7.   8.   9.]\n",
      " [ 10.  11.  12.]]\n"
     ]
    }
   ],
   "source": [
    "data = np.array([[1,2,3],[1,4,3],[7,8,9],[10,11,12]], float)\n",
    "print data"
   ]
  },
  {
   "cell_type": "code",
   "execution_count": 383,
   "metadata": {
    "collapsed": false
   },
   "outputs": [
    {
     "name": "stdout",
     "output_type": "stream",
     "text": [
      "[[ 1.  2.]\n",
      " [ 2.  3.]\n",
      " [ 4.  5.]\n",
      " [ 0.  1.]]\n"
     ]
    }
   ],
   "source": [
    "#y = np.random.randn(np.shape(data)[0], 2) * 1e-4\n",
    "y = np.array([[1,2],[2,3],[4,5],[0,1]], float)\n",
    "print y"
   ]
  },
  {
   "cell_type": "code",
   "execution_count": 384,
   "metadata": {
    "collapsed": false,
    "scrolled": true
   },
   "outputs": [
    {
     "name": "stdout",
     "output_type": "stream",
     "text": [
      "[[ 0.  0.  0.  0.]\n",
      " [ 0.  0.  0.  0.]\n",
      " [ 0.  0.  0.  0.]\n",
      " [ 0.  0.  0.  0.]]\n"
     ]
    }
   ],
   "source": [
    "pjsi = np.zeros((np.shape(data)[0], np.shape(data)[0]))\n",
    "print pjsi"
   ]
  },
  {
   "cell_type": "code",
   "execution_count": 385,
   "metadata": {
    "collapsed": false
   },
   "outputs": [
    {
     "name": "stdout",
     "output_type": "stream",
     "text": [
      "[ 10.  10.  10.  10.]\n"
     ]
    }
   ],
   "source": [
    "sigma = np.ones(np.shape(data)[0]) * 10\n",
    "print sigma"
   ]
  },
  {
   "cell_type": "code",
   "execution_count": 386,
   "metadata": {
    "collapsed": false
   },
   "outputs": [
    {
     "name": "stdout",
     "output_type": "stream",
     "text": [
      "[  14.   26.  194.  365.]\n",
      "\n",
      "[[  14.   26.  194.  365.]]\n",
      "\n",
      "[[ 28  40 208 379]\n",
      " [ 40  52 220 391]\n",
      " [208 220 388 559]\n",
      " [379 391 559 730]]\n",
      "[[  28.   36.  100.  136.]\n",
      " [  36.   52.  132.  180.]\n",
      " [ 100.  132.  388.  532.]\n",
      " [ 136.  180.  532.  730.]]\n",
      "[[   0.    4.  108.  243.]\n",
      " [   4.    0.   88.  211.]\n",
      " [ 108.   88.    0.   27.]\n",
      " [ 243.  211.   27.    0.]]\n"
     ]
    }
   ],
   "source": [
    "normx = np.sum((data**2),1)\n",
    "print normx\n",
    "print \"\"\n",
    "normx = np.reshape(normx, (1, np.shape(normx)[0]))\n",
    "print normx\n",
    "print \"\"\n",
    "distancex = normx + normx.T - 2 * data.dot(data.T)\n",
    "print repnormx + repnormx.T\n",
    "print 2 * data.dot(data.T)\n",
    "print distancex"
   ]
  },
  {
   "cell_type": "code",
   "execution_count": 387,
   "metadata": {
    "collapsed": false
   },
   "outputs": [
    {
     "name": "stdout",
     "output_type": "stream",
     "text": [
      "[[  1.00000000e+00   8.18730753e-01   4.51658094e-03   5.28837258e-06]\n",
      " [  8.18730753e-01   1.00000000e+00   1.22773399e-02   2.61934809e-05]\n",
      " [  4.51658094e-03   1.22773399e-02   1.00000000e+00   2.59240261e-01]\n",
      " [  5.28837258e-06   2.61934809e-05   2.59240261e-01   1.00000000e+00]]\n"
     ]
    }
   ],
   "source": [
    "pjsi = np.exp(-distancex / (2. * sigma))\n",
    "print pjsi"
   ]
  },
  {
   "cell_type": "code",
   "execution_count": 388,
   "metadata": {
    "collapsed": false
   },
   "outputs": [
    {
     "name": "stdout",
     "output_type": "stream",
     "text": [
      "[[  0.00000000e+00   8.18730753e-01   4.51658094e-03   5.28837258e-06]\n",
      " [  8.18730753e-01   0.00000000e+00   1.22773399e-02   2.61934809e-05]\n",
      " [  4.51658094e-03   1.22773399e-02   0.00000000e+00   2.59240261e-01]\n",
      " [  5.28837258e-06   2.61934809e-05   2.59240261e-01   0.00000000e+00]]\n",
      "[ 0.82325262  0.83103429  0.27603418  0.25927174]\n",
      "[ 0.82325262  0.83103429  0.27603418  0.25927174]\n",
      "[[  1.21469397e+00   9.85194915e-01   1.63623973e-02   2.03970264e-05]\n",
      " [  9.94507313e-01   1.20331979e+00   4.44776072e-02   1.01027133e-04]\n",
      " [  5.48626366e-03   1.47735660e-02   3.62273974e+00   9.99878576e-01]\n",
      " [  6.42375431e-06   3.15191338e-05   9.39159995e-01   3.85695715e+00]]\n",
      "[  1.21469397e+00   9.85194915e-01   1.63623973e-02   2.03970264e-05]\n",
      "[  9.94507313e-01   1.20331979e+00   4.44776072e-02   1.01027133e-04]\n",
      "[ 0.00548626  0.01477357  3.62273974  0.99987858]\n",
      "[  6.42375431e-06   3.15191338e-05   9.39159995e-01   3.85695715e+00]\n"
     ]
    }
   ],
   "source": [
    "print pjsi - np.eye(np.shape(pjsi)[0])\n",
    "print np.sum(pjsi - np.eye(np.shape(pjsi)[0]),0)\n",
    "print np.sum(pjsi - np.eye(np.shape(pjsi)[0]),1)\n",
    "pjsi2 = pjsi / np.sum(pjsi - np.eye(np.shape(pjsi)[0]),0)\n",
    "print pjsi2\n",
    "\n",
    "print pjsi[0] / np.sum(pjsi - np.eye(np.shape(pjsi)[0]),0)\n",
    "print pjsi[1] / np.sum(pjsi - np.eye(np.shape(pjsi)[0]),0)\n",
    "print pjsi[2] / np.sum(pjsi - np.eye(np.shape(pjsi)[0]),0)\n",
    "print pjsi[3] / np.sum(pjsi - np.eye(np.shape(pjsi)[0]),0)"
   ]
  },
  {
   "cell_type": "code",
   "execution_count": 408,
   "metadata": {
    "collapsed": false
   },
   "outputs": [
    {
     "name": "stdout",
     "output_type": "stream",
     "text": [
      "\n",
      "\n",
      "\n",
      "\n",
      "1.21469397461\n",
      "1.21469397461\n",
      "1.21469397461\n",
      "0.994507312589\n",
      "0.994507312589\n",
      "0.994507312589\n",
      "0.00548626365681\n",
      "0.00548626365681\n",
      "0.00548626365681\n",
      "6.42375431005e-06\n",
      "6.42375431005e-06\n",
      "6.42375431005e-06\n",
      "0.985194914838\n",
      "0.985194914838\n",
      "0.985194914838\n",
      "1.20331978631\n",
      "1.20331978631\n",
      "1.20331978631\n",
      "0.0147735660286\n",
      "0.0147735660286\n",
      "0.0147735660286\n",
      "3.15191338004e-05\n",
      "3.15191338004e-05\n",
      "3.15191338004e-05\n",
      "0.0163623972879\n",
      "0.0163623972879\n",
      "0.0163623972879\n",
      "0.0444776072178\n",
      "0.0444776072178\n",
      "0.0444776072178\n",
      "3.62273974403\n",
      "3.62273974403\n",
      "3.62273974403\n",
      "0.939159995494\n",
      "0.939159995494\n",
      "0.939159995494\n",
      "2.03970264186e-05\n",
      "2.03970264186e-05\n",
      "2.03970264186e-05\n",
      "0.000101027133213\n",
      "0.000101027133213\n",
      "0.000101027133213\n",
      "0.99987857584\n",
      "0.99987857584\n",
      "0.99987857584\n",
      "3.85695714604\n",
      "3.85695714604\n",
      "3.85695714604\n",
      "0.000101027133213\n"
     ]
    },
    {
     "ename": "KeyError",
     "evalue": "1",
     "output_type": "error",
     "traceback": [
      "\u001b[1;31m---------------------------------------------------------------------------\u001b[0m",
      "\u001b[1;31mKeyError\u001b[0m                                  Traceback (most recent call last)",
      "\u001b[1;32m<ipython-input-408-4c371bcae149>\u001b[0m in \u001b[0;36m<module>\u001b[1;34m()\u001b[0m\n\u001b[0;32m     26\u001b[0m \u001b[1;33m\u001b[0m\u001b[0m\n\u001b[0;32m     27\u001b[0m \u001b[1;32mprint\u001b[0m \u001b[0mpjsi2\u001b[0m\u001b[1;33m[\u001b[0m\u001b[0mi\u001b[0m\u001b[1;33m,\u001b[0m\u001b[0mj\u001b[0m\u001b[1;33m]\u001b[0m\u001b[1;33m\u001b[0m\u001b[0m\n\u001b[1;32m---> 28\u001b[1;33m \u001b[1;32mprint\u001b[0m \u001b[0mnp\u001b[0m\u001b[1;33m.\u001b[0m\u001b[0mexp\u001b[0m\u001b[1;33m(\u001b[0m\u001b[1;33m-\u001b[0m \u001b[0mnp\u001b[0m\u001b[1;33m.\u001b[0m\u001b[0msum\u001b[0m\u001b[1;33m(\u001b[0m\u001b[1;33m(\u001b[0m\u001b[0mdata\u001b[0m\u001b[1;33m[\u001b[0m\u001b[0mi\u001b[0m\u001b[1;33m]\u001b[0m \u001b[1;33m-\u001b[0m \u001b[0mdata\u001b[0m\u001b[1;33m[\u001b[0m\u001b[0mj\u001b[0m\u001b[1;33m]\u001b[0m\u001b[1;33m)\u001b[0m\u001b[1;33m**\u001b[0m\u001b[1;36m2\u001b[0m\u001b[1;33m)\u001b[0m \u001b[1;33m/\u001b[0m \u001b[0msigmai\u001b[0m\u001b[1;33m[\u001b[0m\u001b[0mi\u001b[0m\u001b[1;33m]\u001b[0m\u001b[1;33m)\u001b[0m \u001b[1;33m/\u001b[0m \u001b[1;33m(\u001b[0m\u001b[0mnp\u001b[0m\u001b[1;33m.\u001b[0m\u001b[0mexp\u001b[0m\u001b[1;33m(\u001b[0m\u001b[1;33m-\u001b[0m \u001b[0mnp\u001b[0m\u001b[1;33m.\u001b[0m\u001b[0msum\u001b[0m\u001b[1;33m(\u001b[0m\u001b[1;33m(\u001b[0m\u001b[0mdata\u001b[0m\u001b[1;33m[\u001b[0m\u001b[1;36m0\u001b[0m\u001b[1;33m]\u001b[0m \u001b[1;33m-\u001b[0m \u001b[0mdata\u001b[0m\u001b[1;33m[\u001b[0m\u001b[0mj\u001b[0m\u001b[1;33m]\u001b[0m\u001b[1;33m)\u001b[0m\u001b[1;33m**\u001b[0m\u001b[1;36m2\u001b[0m\u001b[1;33m)\u001b[0m \u001b[1;33m/\u001b[0m \u001b[0msigmai\u001b[0m\u001b[1;33m[\u001b[0m\u001b[0mi\u001b[0m\u001b[1;33m]\u001b[0m\u001b[1;33m)\u001b[0m \u001b[1;33m+\u001b[0m \u001b[0mnp\u001b[0m\u001b[1;33m.\u001b[0m\u001b[0mexp\u001b[0m\u001b[1;33m(\u001b[0m\u001b[1;33m-\u001b[0m \u001b[0mnp\u001b[0m\u001b[1;33m.\u001b[0m\u001b[0msum\u001b[0m\u001b[1;33m(\u001b[0m\u001b[1;33m(\u001b[0m\u001b[0mdata\u001b[0m\u001b[1;33m[\u001b[0m\u001b[1;36m1\u001b[0m\u001b[1;33m]\u001b[0m \u001b[1;33m-\u001b[0m \u001b[0mdata\u001b[0m\u001b[1;33m[\u001b[0m\u001b[0mj\u001b[0m\u001b[1;33m]\u001b[0m\u001b[1;33m)\u001b[0m\u001b[1;33m**\u001b[0m\u001b[1;36m2\u001b[0m\u001b[1;33m)\u001b[0m \u001b[1;33m/\u001b[0m \u001b[0msigmai\u001b[0m\u001b[1;33m[\u001b[0m\u001b[0mi\u001b[0m\u001b[1;33m]\u001b[0m\u001b[1;33m)\u001b[0m \u001b[1;33m+\u001b[0m \u001b[0mnp\u001b[0m\u001b[1;33m.\u001b[0m\u001b[0mexp\u001b[0m\u001b[1;33m(\u001b[0m\u001b[1;33m-\u001b[0m \u001b[0mnp\u001b[0m\u001b[1;33m.\u001b[0m\u001b[0msum\u001b[0m\u001b[1;33m(\u001b[0m\u001b[1;33m(\u001b[0m\u001b[0mdata\u001b[0m\u001b[1;33m[\u001b[0m\u001b[1;36m2\u001b[0m\u001b[1;33m]\u001b[0m \u001b[1;33m-\u001b[0m \u001b[0mdata\u001b[0m\u001b[1;33m[\u001b[0m\u001b[0mj\u001b[0m\u001b[1;33m]\u001b[0m\u001b[1;33m)\u001b[0m\u001b[1;33m**\u001b[0m\u001b[1;36m2\u001b[0m\u001b[1;33m)\u001b[0m \u001b[1;33m/\u001b[0m \u001b[0msigmai\u001b[0m\u001b[1;33m[\u001b[0m\u001b[0mi\u001b[0m\u001b[1;33m]\u001b[0m\u001b[1;33m)\u001b[0m\u001b[1;33m)\u001b[0m\u001b[1;33m\u001b[0m\u001b[0m\n\u001b[0m",
      "\u001b[1;31mKeyError\u001b[0m: 1"
     ]
    }
   ],
   "source": [
    "#print pjsi\n",
    "for j in xrange(4):\n",
    "    for i in xrange(4):\n",
    "        #print pjsi[i,j] -  np.exp(- distancex[i,j] / 20.)\n",
    "        pass\n",
    "    print ''\n",
    "\n",
    "#print pjsi2.T\n",
    "for j in xrange(4):\n",
    "    s = 0\n",
    "    for k in xrange(4):\n",
    "        if k != j:\n",
    "            s += pjsi[k,j]\n",
    "    for i in xrange(4):\n",
    "        res = np.exp(-distancex[i,j] / sigmai[i]) / s\n",
    "        print pjsi[i,j] / s\n",
    "        print pjsi[i,j] / np.sum(pjsi - np.eye(np.shape(pjsi)[0]),0)[j]\n",
    "        print (pjsi / np.sum(pjsi - np.eye(np.shape(pjsi)[0]),0))[i,j]\n",
    "        #print res - pjsi2[j,i]\n",
    "    #print ''\n",
    "\n",
    "#print np.sum(pjsi - np.eye(np.shape(pjsi)[0]),1)\n",
    "\n",
    "i = 1\n",
    "j = 3\n",
    "\n",
    "print pjsi2[i,j]\n",
    "print np.exp(- np.sum((data[i] - data[j])**2) / sigmai[i]) / (np.exp(- np.sum((data[0] - data[j])**2) / sigmai[i]) + np.exp(- np.sum((data[1] - data[j])**2) / sigmai[i]) + np.exp(- np.sum((data[2] - data[j])**2) / sigmai[i]))"
   ]
  },
  {
   "cell_type": "code",
   "execution_count": 222,
   "metadata": {
    "collapsed": false,
    "scrolled": true
   },
   "outputs": [
    {
     "data": {
      "text/plain": [
       "(4, 4)"
      ]
     },
     "execution_count": 222,
     "metadata": {},
     "output_type": "execute_result"
    }
   ],
   "source": [
    "np.shape(pjsi)\n",
    "np.shape\n"
   ]
  },
  {
   "cell_type": "code",
   "execution_count": 394,
   "metadata": {
    "collapsed": false
   },
   "outputs": [
    {
     "data": {
      "text/plain": [
       "array([[   0.,    4.,  108.,  243.],\n",
       "       [   4.,    0.,   88.,  211.],\n",
       "       [ 108.,   88.,    0.,   27.],\n",
       "       [ 243.,  211.,   27.,    0.]])"
      ]
     },
     "execution_count": 394,
     "metadata": {},
     "output_type": "execute_result"
    }
   ],
   "source": [
    "distancex"
   ]
  },
  {
   "cell_type": "code",
   "execution_count": 407,
   "metadata": {
    "collapsed": false
   },
   "outputs": [
    {
     "name": "stdout",
     "output_type": "stream",
     "text": [
      "[[ 1]\n",
      " [ 2]\n",
      " [ 4]\n",
      " [10]]\n",
      "[2]\n"
     ]
    }
   ],
   "source": [
    "sigmai = np.array([1,2,4,10]).reshape(4,1)\n",
    "print sigmai"
   ]
  },
  {
   "cell_type": "code",
   "execution_count": 402,
   "metadata": {
    "collapsed": false
   },
   "outputs": [
    {
     "name": "stdout",
     "output_type": "stream",
     "text": [
      "[[  1.21469397e+00   9.85194915e-01   1.63623973e-02   2.03970264e-05]\n",
      " [  9.94507313e-01   1.20331979e+00   4.44776072e-02   1.01027133e-04]\n",
      " [  5.48626366e-03   1.47735660e-02   3.62273974e+00   9.99878576e-01]\n",
      " [  6.42375431e-06   3.15191338e-05   9.39159995e-01   3.85695715e+00]]\n"
     ]
    }
   ],
   "source": [
    "distancex / sigma**2\n",
    "print pjsi / np.sum(pjsi - np.eye(np.shape(pjsi)[0]),0)\n",
    "\n"
   ]
  },
  {
   "cell_type": "code",
   "execution_count": 3,
   "metadata": {
    "collapsed": false
   },
   "outputs": [],
   "source": [
    "class tSNE():\n",
    "    def __init__(self,perp, nIter, lr, moment, dim=2):\n",
    "        self.perp = perp # entre 5 et 50\n",
    "        self.nIter = nIter\n",
    "        self.lr = lr\n",
    "        self.moment = moment\n",
    "        self.dim = dim    \n",
    "    def fit(self,data):\n",
    "        nEx = np.shape(data)[0]\n",
    "        # Matrice des distances de ||xi - xj||² #\n",
    "        normx = np.sum(data**2,1)\n",
    "        normx = np.reshape(normx, (1, nEx))\n",
    "        distancex = normx + normx.T - 2 * data.dot(data.T)\n",
    "        # Calcul des sigma ---------------------------------------------------------------#\n",
    "        lperp = np.log2(self.perp)\n",
    "        # initialisation bornes pour la recherche dichotomique #\n",
    "        sup = np.ones((nEx,1)) * np.max(distancex)\n",
    "        inf = np.zeros((nEx,1))\n",
    "        self.sigma = (sup + inf) / 2.\n",
    "        # recherche dichotomique #\n",
    "        stop = False\n",
    "        while not stop:\n",
    "            # Calculer la matrice des p(i|j)\n",
    "            self.pcond = np.exp(-distancex / (2. * (self.sigma**2)))\n",
    "            self.pcond = self.pcond / np.sum(self.pcond - np.eye(nEx),1).reshape(nEx,1)\n",
    "            # Calculer l'entropie de p(i|j)\n",
    "            entropy = - np.sum(self.pcond * np.log2(self.pcond), 0)\n",
    "            # Mise a jour des bornes\n",
    "              # Si il faut augmenter sigma\n",
    "            up = entropy < lperp \n",
    "            inf[up,0] = self.sigma[up,0]\n",
    "              # Si il faut baisser sigma\n",
    "            down = entropy > lperp \n",
    "            sup[down,0] = self.sigma[down,0]\n",
    "            # Mise a jour de sigma et condition d'arrêt\n",
    "            old = self.sigma\n",
    "            self.sigma = ((sup + inf) / 2.)\n",
    "            if np.max(np.abs(old - self.sigma)) < 1e-5:\n",
    "                stop = True\n",
    "                print np.exp(entropy)\n",
    "                print self.sigma.T  \n",
    "        #--------------------------------------------------------------------------#\n",
    "        #initialiser y\n",
    "        self.embeddings = np.zeros((self.nIter+2, nEx, self.dim))\n",
    "        self.embeddings[1] = np.random.randn(nEx, self.dim) * 1e-4\n",
    "        #--------------------------------------------------------------------------#\n",
    "        # p(ij)\n",
    "        self.pij = (self.pcond + self.pcond.T) / (2.*nEx)\n",
    "        #self.pij *= 1 - np.eye(nEx)\n",
    "        # Descente de Gradient\n",
    "        loss = []\n",
    "        for t in xrange(1,self.nIter+1):\n",
    "            # Matrice des distances \n",
    "            normy = np.sum((self.embeddings[t]**2),1)\n",
    "            normy = np.reshape(normy, (1, nEx))\n",
    "            distancey = normy + normy.T - 2 * self.embeddings[t].dot(self.embeddings[t].T)\n",
    "            # q(ij)\n",
    "            self.qij = (distancey.sum(1).reshape(nEx,1) + (nEx*(nEx-1))) / (1 + distancey)\n",
    "            #self.qij *= 1 - np.eye(nEx)\n",
    "            #self.qij = np.sum(self.qij - np.eye(nEx),0) / self.qij\n",
    "            # Gradient\n",
    "            tmpgrad = 4 * ((self.pij - self.qij) / (1 + distancey))\n",
    "            tmpgrad = np.reshape(tmpgrad, (nEx, nEx,1))\n",
    "            dY = [self.embeddings[t,i] - self.embeddings[t] for i in xrange(nEx)]\n",
    "            dY = np.array(dY)\n",
    "            grad = np.sum(tmpgrad * dY, 1)\n",
    "            # Descente de gradient\n",
    "            #ymoins1 = self.embedding\n",
    "            #self.embedding = ymoins1 + self.lr * grad + self.moment * (ymoins1 - ymoins2)\n",
    "            #ymoins1 = ymoins2\n",
    "            self.embeddings[t+1] = self.embeddings[t] + self.lr * grad + self.moment * (self.embeddings[t] - self.embeddings[t-1])\n",
    "            l = np.sum(self.pij * (np.log2(self.pij/self.qij)))\n",
    "            loss.append(l)\n",
    "            print t,l"
   ]
  },
  {
   "cell_type": "code",
   "execution_count": 7,
   "metadata": {
    "collapsed": false
   },
   "outputs": [],
   "source": [
    "from sklearn import datasets\n",
    "data = datasets.load_digits()"
   ]
  },
  {
   "cell_type": "code",
   "execution_count": 19,
   "metadata": {
    "collapsed": false
   },
   "outputs": [],
   "source": [
    "from sklearn.manifold import TSNE\n",
    "model = TSNE(n_components=2, random_state=0, n_iter=200)\n",
    "x = model.fit_transform(data.data) \n",
    "\n",
    "plt.figure()\n",
    "plt.plot(x[:,0][data.target == 0], x[:,1][data.target == 0], 'o', color=\"blue\")\n",
    "plt.plot(x[:,0][data.target == 1], x[:,1][data.target == 1], 'o', color=\"red\")\n",
    "plt.plot(x[:,0][data.target == 2], x[:,1][data.target == 2], 'o', color=\"cyan\")\n",
    "plt.plot(x[:,0][data.target == 3], x[:,1][data.target == 3], 'o', color=\"magenta\")\n",
    "plt.plot(x[:,0][data.target == 4], x[:,1][data.target == 4], 'o', color=\"yellow\")\n",
    "plt.plot(x[:,0][data.target == 5], x[:,1][data.target == 5], 'o', color=\"black\")\n",
    "plt.plot(x[:,0][data.target == 6], x[:,1][data.target == 6], 'o', color=\"white\")\n",
    "plt.plot(x[:,0][data.target == 7], x[:,1][data.target == 7], 'o', color=(0.5, 0.5, 0))\n",
    "plt.plot(x[:,0][data.target == 8], x[:,1][data.target == 8], 'o', color=(0,0.5,0.5))\n",
    "plt.plot(x[:,0][data.target == 9], x[:,1][data.target == 9], 'o', color=(0.5,0,0.5))\n",
    "plt.show()"
   ]
  },
  {
   "cell_type": "code",
   "execution_count": 20,
   "metadata": {
    "collapsed": false
   },
   "outputs": [
    {
     "data": {
      "text/plain": [
       "{'early_exaggeration': 4.0,\n",
       " 'init': 'random',\n",
       " 'learning_rate': 1000.0,\n",
       " 'metric': 'euclidean',\n",
       " 'n_components': 2,\n",
       " 'n_iter': 200,\n",
       " 'perplexity': 30.0,\n",
       " 'random_state': 0,\n",
       " 'verbose': 0}"
      ]
     },
     "execution_count": 20,
     "metadata": {},
     "output_type": "execute_result"
    }
   ],
   "source": [
    "model.get_params()"
   ]
  },
  {
   "cell_type": "code",
   "execution_count": 16,
   "metadata": {
    "collapsed": false
   },
   "outputs": [
    {
     "name": "stdout",
     "output_type": "stream",
     "text": [
      "[ 135.20805638  135.24193477   26.39898988 ...,  135.21719547  135.21895758\n",
      "   74.20709055]\n",
      "[[  4.91911469   8.38679509  11.59179135 ...,   9.254232     9.27069259\n",
      "   11.59179135]]\n",
      "1 -80.5656010474\n",
      "2 -150.481420611\n",
      "3 -150.48142063\n",
      "4 -150.481420634\n",
      "5 -150.481420599\n",
      "6 -150.481420417\n",
      "7 -150.481417756\n",
      "8 -150.481418004\n",
      "9 -150.48141834\n",
      "10 -150.481418868\n",
      "11 -150.481420127\n",
      "12 -150.481420236\n",
      "13 -150.481425639\n",
      "14 -150.481425649\n",
      "15 -150.48142566\n",
      "16 -150.481425673\n",
      "17 -150.481425688\n",
      "18 -150.481425705\n",
      "19 -150.481425726\n",
      "20 -150.481425752\n",
      "21 -150.481425788\n",
      "22 -150.481425839\n",
      "23 -150.481425925\n",
      "24 -150.481426111\n",
      "25 -150.48142705\n",
      "26 -150.481416642\n",
      "27 -150.481416656\n",
      "28 -150.481416671\n",
      "29 -150.481416686\n",
      "30 -150.481416701\n",
      "31 -150.481416718\n",
      "32 -150.481416735\n",
      "33 -150.481416754\n",
      "34 -150.481416777\n",
      "35 -150.481416809\n",
      "36 -150.481416911\n",
      "37 -150.481416916\n",
      "38 -150.481416919\n",
      "39 -150.481416916\n",
      "40 -150.481416864\n",
      "41 -150.481416928\n",
      "42 -150.481416516\n",
      "43 -150.481416529\n",
      "44 -150.481416542\n",
      "45 -150.481416555\n",
      "46 -150.481416569\n",
      "47 -150.481416582\n",
      "48 -150.481416596\n",
      "49 -150.48141661\n",
      "50 -150.481416624\n",
      "51 -150.481416638\n",
      "52 -150.481416652\n",
      "53 -150.481416667\n",
      "54 -150.481416681\n",
      "55 -150.481416696\n",
      "56 -150.481416711\n",
      "57 -150.481416726\n",
      "58 -150.481416742\n",
      "59 -150.481416757\n",
      "60 -150.481416773\n",
      "61 -150.481416789\n",
      "62 -150.481416806\n",
      "63 -150.481416822\n",
      "64 -150.481416839\n",
      "65 -150.481416856\n",
      "66 -150.481416874\n",
      "67 -150.481416891\n",
      "68 -150.481416909\n",
      "69 -150.481416928\n",
      "70 -150.481416946\n",
      "71 -150.481416965\n",
      "72 -150.481416985\n",
      "73 -150.481417004\n",
      "74 -150.481417025\n",
      "75 -150.481417045\n",
      "76 -150.481417066\n",
      "77 -150.481417088\n",
      "78 -150.48141711\n",
      "79 -150.481417133\n",
      "80 -150.481417157\n",
      "81 -150.481417181\n",
      "82 -150.481417206\n",
      "83 -150.481417232\n",
      "84 -150.481417259\n",
      "85 -150.481417288\n",
      "86 -150.481417317\n",
      "87 -150.481417349\n",
      "88 -150.481417382\n",
      "89 -150.481417418\n",
      "90 -150.481417458\n",
      "91 -150.481417505\n",
      "92 -150.481417567\n",
      "93 -150.4814177\n",
      "94 -150.481414768\n",
      "95 -150.481414799\n",
      "96 -150.481414831\n",
      "97 -150.481414865\n",
      "98 -150.481414901\n",
      "99 -150.48141494\n",
      "100 -150.481414981\n"
     ]
    }
   ],
   "source": [
    "model = tSNE(30,100,1e4,0)\n",
    "model.fit(data.data)"
   ]
  },
  {
   "cell_type": "code",
   "execution_count": 17,
   "metadata": {
    "collapsed": false
   },
   "outputs": [],
   "source": [
    "t = np.shape(model.embeddings)[0] -1\n",
    "plt.figure()\n",
    "plt.plot(model.embeddings[t,:,0][data.target == 0], model.embeddings[t,:,1][data.target == 0], 'o', color=\"blue\")\n",
    "plt.plot(model.embeddings[t,:,0][data.target == 1], model.embeddings[t,:,1][data.target == 1], 'o', color=\"red\")\n",
    "plt.plot(model.embeddings[t,:,0][data.target == 2], model.embeddings[t,:,1][data.target == 2], 'o', color=\"cyan\")\n",
    "plt.plot(model.embeddings[t,:,0][data.target == 3], model.embeddings[t,:,1][data.target == 3], 'o', color=\"magenta\")\n",
    "plt.plot(model.embeddings[t,:,0][data.target == 4], model.embeddings[t,:,1][data.target == 4], 'o', color=\"yellow\")\n",
    "plt.plot(model.embeddings[t,:,0][data.target == 5], model.embeddings[t,:,1][data.target == 5], 'o', color=\"black\")\n",
    "plt.plot(model.embeddings[t,:,0][data.target == 6], model.embeddings[t,:,1][data.target == 6], 'o', color=\"white\")\n",
    "plt.plot(model.embeddings[t,:,0][data.target == 7], model.embeddings[t,:,1][data.target == 7], 'o', color=(0.5, 0.5, 0))\n",
    "plt.plot(model.embeddings[t,:,0][data.target == 8], model.embeddings[t,:,1][data.target == 8], 'o', color=(0,0.5,0.5))\n",
    "plt.plot(model.embeddings[t,:,0][data.target == 9], model.embeddings[t,:,1][data.target == 9], 'o', color=(0.5,0,0.5))\n",
    "plt.show()"
   ]
  },
  {
   "cell_type": "code",
   "execution_count": 176,
   "metadata": {
    "collapsed": false
   },
   "outputs": [],
   "source": [
    "import pickle as pkl\n",
    "fichier = open(\"./model.p\")\n",
    "reco = pkl.load(fichier)\n",
    "fichier.close()"
   ]
  },
  {
   "cell_type": "code",
   "execution_count": 178,
   "metadata": {
    "collapsed": false
   },
   "outputs": [],
   "source": [
    "movies = np.zeros((len(reco.q),10))\n",
    "titles = []\n",
    "for i,q in enumerate(reco.q.keys()):\n",
    "    movies[i] = np.reshape(reco.q[q],10,1)\n",
    "    titles.append(q)"
   ]
  },
  {
   "cell_type": "code",
   "execution_count": 180,
   "metadata": {
    "collapsed": false,
    "scrolled": true
   },
   "outputs": [
    {
     "name": "stdout",
     "output_type": "stream",
     "text": [
      "[ 53208.79287149  27978.5242457   63830.81660834 ...,  50168.54788043\n",
      "  49660.32171641  39566.21720595]\n",
      "[  94091.36245274    8430.25459954  201165.29926887 ...,   74029.40818452\n",
      "   70998.92666616   29307.18170129]\n",
      "[  4.96050963e+05   3.03968269e+02   1.31422839e+07 ...,   1.88630697e+05\n",
      "   1.52718047e+05   7.32933550e+03]\n",
      "[  1.07606080e+06   1.07821353e+01   4.58893899e+09 ...,   7.77942855e+04\n",
      "   2.11222553e+04   1.31130971e+02]\n",
      "[  6.38815289e-07   3.16139056e+00   3.17928762e+06 ...,   1.98296526e-36\n",
      "   8.14874245e-04   1.13195949e-99]\n",
      "[  1.74813038e+05   5.62667614e+00   1.48789267e+02 ...,   1.22448118e+04\n",
      "   9.20277787e+02   3.20434245e+01]\n",
      "[  5.16780168e+04   5.38485620e+00   0.00000000e+00 ...,   1.08109920e+03\n",
      "   6.35681774e+02   2.81515878e+01]\n",
      "[  2.69388428e+03   6.02597037e+00   6.11872571e-24 ...,   5.36676924e-02\n",
      "   1.32866277e+02   2.59159929e+01]\n",
      "[  1.04664727e+01   6.18508951e+00   1.54448444e-03 ...,   8.02304787e+01\n",
      "   6.93524554e+00   2.59046822e+01]\n",
      "[ 299.29664194    6.30509093    6.20899566 ...,    4.95077978   45.35259104\n",
      "   25.75921467]\n",
      "[ 68.67183601   6.34803015  97.66217407 ...,  23.07470163  90.0978616\n",
      "  25.73714958]\n",
      "[ 150.96541935    6.36200481   26.27052484 ...,   43.85964686   66.639286\n",
      "   25.71216743]\n",
      "[ 102.91044261    6.37484671   51.17810929 ...,   59.03600713   78.66979093\n",
      "   25.65718128]\n",
      "[ 84.23568807   6.38099059  69.958892   ...,  67.77992155  72.5777374\n",
      "  25.66389727]\n",
      "[ 76.02983406   6.38335932  81.74507724 ...,  72.66424108  75.56701691\n",
      "  25.67078421]\n",
      "[ 72.1801283    6.38445622  75.65058931 ...,  75.20668247  74.15117212\n",
      "  25.66614117]\n",
      "[ 74.0559768    6.3849367   72.78621511 ...,  76.53378958  74.91092364\n",
      "  25.6658338 ]\n",
      "[ 75.017517     6.38507727  74.21109176 ...,  75.89706802  75.29235582\n",
      "  25.66530129]\n",
      "[ 75.50384232   6.3852993   74.94017836 ...,  75.5740333   75.48018373\n",
      "  25.66575141]\n",
      "[ 75.50384232   6.3852993   74.94017836 ...,  75.5740333   75.48018373\n",
      "  25.66575141]\n",
      "[[ 0.16155614  0.59890049  0.07229976 ...,  0.1777314   0.16535778\n",
      "   0.29944796]]\n",
      "1 -92.1369469636\n",
      "2 -133.928945825\n",
      "3 -209.629640964\n",
      "4 -280.290126094\n",
      "5 -370.949109573\n",
      "6 -369.929616551\n",
      "7 -371.639402266\n",
      "8 -372.155983338\n",
      "9 -372.356901266\n",
      "10 -372.421310969\n"
     ]
    },
    {
     "name": "stderr",
     "output_type": "stream",
     "text": [
      "/usr/local/lib/python2.7/dist-packages/ipykernel/__main__.py:27: RuntimeWarning: divide by zero encountered in log2\n",
      "/usr/local/lib/python2.7/dist-packages/ipykernel/__main__.py:27: RuntimeWarning: invalid value encountered in multiply\n",
      "/usr/local/lib/python2.7/dist-packages/ipykernel/__main__.py:30: RuntimeWarning: invalid value encountered in less\n",
      "/usr/local/lib/python2.7/dist-packages/ipykernel/__main__.py:33: RuntimeWarning: invalid value encountered in greater\n"
     ]
    }
   ],
   "source": [
    "model = tSNE(20,10,1e-3,0.4)\n",
    "model.fit(movies)"
   ]
  },
  {
   "cell_type": "code",
   "execution_count": 219,
   "metadata": {
    "collapsed": false
   },
   "outputs": [],
   "source": [
    "plt.figure()\n",
    "plt.plot(model.embeddings[11,:,0],model.embeddings[11,:,1], 'o', color=\"blue\")\n",
    "\n",
    "\n",
    "#y=[2.56422, 3.77284,3.52623,3.51468,3.02199]\n",
    "#z=[0.15, 0.3, 0.45, 0.6, 0.75]\n",
    "#n=[58,651,393,203,123]\n",
    "\n",
    "#fig, ax = plt.subplots()\n",
    "#ax.scatter(z, y)\n",
    "\n",
    "for i, txt in enumerate(titles):\n",
    "    plt.annotate(txt.decode('latin-1'), model.embeddings[11,i])\n",
    "\n",
    "plt.show()"
   ]
  },
  {
   "cell_type": "code",
   "execution_count": 196,
   "metadata": {
    "collapsed": false
   },
   "outputs": [
    {
     "data": {
      "text/plain": [
       "'uAdventures of Pinocchio, The (1996)'"
      ]
     },
     "execution_count": 196,
     "metadata": {},
     "output_type": "execute_result"
    }
   ],
   "source": [
    "+titles[0]"
   ]
  },
  {
   "cell_type": "code",
   "execution_count": 130,
   "metadata": {
    "collapsed": false
   },
   "outputs": [
    {
     "data": {
      "text/plain": [
       "array([[  3.07592203e+07,   3.77409653e+07],\n",
       "       [ -4.14262632e+08,   3.50348199e+08],\n",
       "       [ -2.16739678e+07,  -4.24695982e+07],\n",
       "       ..., \n",
       "       [ -4.52136368e+07,   6.55534182e+07],\n",
       "       [  2.35250806e+06,  -1.48310620e+07],\n",
       "       [ -5.12020533e+07,   1.86081529e+08]])"
      ]
     },
     "execution_count": 130,
     "metadata": {},
     "output_type": "execute_result"
    }
   ],
   "source": [
    "model.embeddings[101]"
   ]
  },
  {
   "cell_type": "code",
   "execution_count": 137,
   "metadata": {
    "collapsed": false
   },
   "outputs": [],
   "source": [
    "A = np.array([[1,1],[2,2]])\n",
    "plt.plot(A[:,0], A[:,1], 'o')\n",
    "plt.show()"
   ]
  },
  {
   "cell_type": "code",
   "execution_count": null,
   "metadata": {
    "collapsed": true
   },
   "outputs": [],
   "source": []
  }
 ],
 "metadata": {
  "kernelspec": {
   "display_name": "Python 2",
   "language": "python",
   "name": "python2"
  },
  "language_info": {
   "codemirror_mode": {
    "name": "ipython",
    "version": 2
   },
   "file_extension": ".py",
   "mimetype": "text/x-python",
   "name": "python",
   "nbconvert_exporter": "python",
   "pygments_lexer": "ipython2",
   "version": "2.7.6"
  }
 },
 "nbformat": 4,
 "nbformat_minor": 0
}
