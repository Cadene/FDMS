{
 "cells": [
  {
   "cell_type": "markdown",
   "metadata": {},
   "source": [
    "# FDMS - TME2 - Régularisation"
   ]
  },
  {
   "cell_type": "markdown",
   "metadata": {},
   "source": [
    "**Analyse des méthodes de régularisation $L_1$ et $L_2$ appliquées à un classifieur linéaire sur une base d'images de chiffres manuscrits (MNIST).**\n",
    "\n",
    "* Université Pierre et Marie Curie\n",
    "* Professeur: Ludovic Denoyer\n",
    "* Etudiant: Rémi Cadène 3000693\n",
    "\n",
    "Dépendances: numpy, sklearn, python-mnist, matplotlib, seaborn"
   ]
  },
  {
   "cell_type": "code",
   "execution_count": null,
   "metadata": {
    "collapsed": true
   },
   "outputs": [],
   "source": [
    "os.execute('pip install python-mnist')\n",
    "os.execute('pip install seaborn')"
   ]
  },
  {
   "cell_type": "markdown",
   "metadata": {},
   "source": [
    "## Classes Python"
   ]
  },
  {
   "cell_type": "markdown",
   "metadata": {},
   "source": [
    "* La classe DatasetLoader permet de charger différentes dataset tout en conservant seulement deux classes (labels).\n",
    "* Les classes RegLx permettent de calculer des normes L0, L1, L2, L1+L2 et leurs gradients respectifs, si possible.\n",
    "* La classe Linear permet d'entrainer un classifieur linéaire avec descente de gradient.\n",
    "* La classe Display permet d'afficher la heatmap des points du classifier centrés et normés."
   ]
  },
  {
   "cell_type": "code",
   "execution_count": 1,
   "metadata": {
    "collapsed": false
   },
   "outputs": [],
   "source": [
    "import os\n",
    "import numpy as np"
   ]
  },
  {
   "cell_type": "code",
   "execution_count": 80,
   "metadata": {
    "collapsed": false
   },
   "outputs": [],
   "source": [
    "import urllib\n",
    "from sklearn.datasets.mldata import fetch_mldata\n",
    "import tempfile\n",
    "from mnist import MNIST\n",
    "\n",
    "class DatasetLoader():\n",
    "    \n",
    "    def __init__(self):\n",
    "        pass\n",
    "        \n",
    "    def _print(self, X, y):\n",
    "        print \"shape X\", X.shape\n",
    "        print \"shape y\", y.shape\n",
    "        unique = np.unique(y)\n",
    "        print \"labels\", unique\n",
    "        print \"nombre de -1:\", (y == -1).sum()\n",
    "        print \"nombre de  1:\", (y == 1).sum()\n",
    "    \n",
    "    def iris(self):\n",
    "        test_data_home = tempfile.mkdtemp()\n",
    "        iris = fetch_mldata('iris', data_home=test_data_home)\n",
    "        X = iris.data\n",
    "        y = iris.target\n",
    "        y[y == 2] = -1 # transformer en 2 labels -1 ou 1\n",
    "        y[y == 3] = -1\n",
    "        self._print(X, y)\n",
    "        return X, y\n",
    "    \n",
    "    def leuk(self):\n",
    "        test_data_home = tempfile.mkdtemp()\n",
    "        leuk = fetch_mldata('leukemia', data_home=test_data_home, transpose_data=True)\n",
    "        X = leuk.data\n",
    "        y = leuk.target\n",
    "        self._print(X, y)\n",
    "        return X, y\n",
    "    \n",
    "    def diab(self): # Pirma Indians Diabetes dataset (UCI Machine Learning Rep)\n",
    "        raw_data = urllib.urlopen(\"http://goo.gl/j0Rvxq\")\n",
    "        dataset = np.loadtxt(raw_data, delimiter=\",\")\n",
    "        X = dataset[:, 0:7]\n",
    "        y = dataset[:, 8]\n",
    "        y[y == 0] = -1\n",
    "        self._print(X, y)\n",
    "        return X, y\n",
    "        #os.execute('wget -t inf ' + self.url +)\n",
    "        \n",
    "    def _preprocess_mnist(self, X, y):    \n",
    "        X = np.array(X)\n",
    "        y = np.array(y)\n",
    "        id_sup1 = np.where(y > 1)[0]\n",
    "        X = np.delete(X, id_sup1, axis=0)\n",
    "        y = np.delete(y, id_sup1, axis=0)\n",
    "        y[y == 0] = -1\n",
    "        return X, y\n",
    "    \n",
    "    def download_mnist(self, path):\n",
    "        if not os.path.isdir(path):\n",
    "            os.execute('mkdir '+path+';wget --recursive --level=1 --cut-dirs=3 --no-host-directories \\\n",
    "  --directory-prefix='+path+' --accept \\'*.gz\\' http://yann.lecun.com/exdb/mnist/;pushd '+path+';gunzip *;popd')\n",
    "            \n",
    "    def mnist(self, path):\n",
    "        mndata = MNIST(path)\n",
    "        X, y = mndata.load_training()\n",
    "        X, y = self._preprocess_mnist(X, y)\n",
    "        self._print(X, y)\n",
    "        return X, y\n",
    "\n",
    "    def mnist_test(self, path):\n",
    "        mndata = MNIST(path)\n",
    "        X, y = mndata.load_testing()\n",
    "        X, y = self._preprocess_mnist(X, y)\n",
    "        self._print(X, y)\n",
    "        return X, y\n"
   ]
  },
  {
   "cell_type": "code",
   "execution_count": 4,
   "metadata": {
    "collapsed": false
   },
   "outputs": [],
   "source": [
    "class RegL0():\n",
    "    @staticmethod\n",
    "    def cost(w):\n",
    "        return w[w != 0].shape[0]\n",
    "\n",
    "class RegL1():\n",
    "    \n",
    "    def cost(self, w):\n",
    "        return np.absolute(w).sum()\n",
    "    \n",
    "    def grad(self, w):\n",
    "        return np.sign(w)\n",
    "\n",
    "class RegL2():\n",
    "        \n",
    "    def cost(self, w):\n",
    "        return (w ** 2).sum()\n",
    "    \n",
    "    def grad(self, w):\n",
    "        return 2 * w\n",
    "\n",
    "class RegL1L2():\n",
    "    \n",
    "    def __init__(self, cL1, cL2):\n",
    "        self.cL1 = cL1\n",
    "        self.cL2 = cL2\n",
    "        self.regL1 = RegL1()\n",
    "        self.regL2 = RegL2()\n",
    "    \n",
    "    def cost(self, w):\n",
    "        return self.cL1 * self.regL1.cost(w) + self.cL2 * self.regL2.cost(w)\n",
    "    \n",
    "    def grad(self, w):\n",
    "        return self.cL1 * self.regL1.grad(w) + self.cL2 * self.regL2.grad(w)"
   ]
  },
  {
   "cell_type": "code",
   "execution_count": 119,
   "metadata": {
    "collapsed": false
   },
   "outputs": [],
   "source": [
    "class Linear():\n",
    "    \n",
    "    def __init__(self, iter=100, lr=1e-2, mo=0.1, reg=None, wd=0.2, debug=False):\n",
    "        self.iter = iter\n",
    "        self.lr = lr # learning rate\n",
    "        self.mo = mo # coef du momentum nesterov\n",
    "        if reg == None:\n",
    "            self.reg = RegL1()\n",
    "            self.wd = 0\n",
    "        else:\n",
    "            self.reg = reg # [RegL1(), RegL2(), RegL1L2(l1,l2)]\n",
    "            self.wd = wd # weight decay ou coef de régularisation\n",
    "        self.debug = debug\n",
    "    \n",
    "    def init_w(self, n):\n",
    "        self.w = np.random.normal(0, .1, n)\n",
    "    \n",
    "    def fit(self, X, y, X_test=None, y_test=None):\n",
    "        l = X.shape[0]\n",
    "        n = X.shape[1]\n",
    "        self.init_w(n)\n",
    "        v = np.zeros(n)\n",
    "        for i in range(1,(self.iter+1)):\n",
    "            shuffle = np.random.permutation(l)\n",
    "            for idx in shuffle:\n",
    "                grad = -2 * (y[idx] - self.w.dot(X[idx])) * X[idx] # Erreur stochastique\n",
    "                grad += self.wd * self.reg.grad(self.w) # Erreur régularisation\n",
    "                w_old = np.copy(self.w)\n",
    "                v_prev = np.copy(v)\n",
    "                v = self.mo * v - self.lr * grad # velocity\n",
    "                self.w += -self.mo * v_prev + (1 + self.mo) * v # nesterov momentum\n",
    "                tmp = self.w * w_old\n",
    "                self.w[tmp < 0] = 0\n",
    "            if self.debug and i%50==0:\n",
    "                print \"#iter\", i\n",
    "                print \"err_global\", self.err_global(X, y)\n",
    "                print \"accuracy train\", self.accuracy(X, y)\n",
    "                if X_test != None:\n",
    "                    print \"accuracy test\", self.accuracy(X_test, y_test)\n",
    "                print \"L0\", self.L0()\n",
    "                \n",
    "    def err_global(self, X, y):\n",
    "        return ((y - X.dot(self.w)) ** 2).sum() / X.shape[0] + self.reg.cost(self.w)\n",
    "    \n",
    "    def accuracy(self, X, y):\n",
    "        pred = self.predict(X)\n",
    "        return np.sum(y == pred)*1. / X.shape[0]\n",
    "        \n",
    "    def predict(self, X):\n",
    "        return np.where( X.dot(self.w) > 0, 1, -1 )\n",
    "        \n",
    "    def L0(self):\n",
    "        return self.w.shape[1] - RegL0.cost(self.w)\n"
   ]
  },
  {
   "cell_type": "code",
   "execution_count": 150,
   "metadata": {
    "collapsed": false
   },
   "outputs": [],
   "source": [
    "import matplotlib.pyplot as plt\n",
    "import seaborn as sns; sns.set()\n",
    "%matplotlib inline\n",
    "\n",
    "class Display():\n",
    "    \n",
    "    @staticmethod\n",
    "    def heatmap(clf, centred=True, type_clf='Linear'):\n",
    "        if type_clf == 'Linear':\n",
    "            w = clf.w\n",
    "        else:\n",
    "            w = clf.coef_\n",
    "        if centred:\n",
    "            mean = w.mean()\n",
    "            std  = w.std()\n",
    "            centred_w = (w - mean) / std\n",
    "        else:\n",
    "            centred_w = w\n",
    "        regL0 = RegL0.cost(w)\n",
    "        print \"Nombre de paramètres actifs :\", regL0\n",
    "        print \"Nombre de paramètres nuls :\", (w.shape[0] - regL0)\n",
    "        weights = np.reshape(centred_w, (28,28))\n",
    "        ax = sns.heatmap(weights, vmin=-1, vmax=1)\n",
    "        \n",
    "    @staticmethod\n",
    "    def plot(x, y, yerr=None, title=None, xlabel=None, ylabel=None):\n",
    "        plt.errorbar(x, y, yerr=yerr, fmt='-o')\n",
    "        if title:\n",
    "            plt.title(title)\n",
    "        if xlabel:\n",
    "            plt.xlabel(xlabel)\n",
    "        if ylabel:\n",
    "            plt.ylabel(ylabel)\n",
    "        plt.show()\n",
    "    "
   ]
  },
  {
   "cell_type": "markdown",
   "metadata": {},
   "source": [
    "## Chargement des données MNIST"
   ]
  },
  {
   "cell_type": "markdown",
   "metadata": {},
   "source": [
    "Chargement des datasets MNIST train et MNIST test en récupérant seulement deux classes :\n",
    "* le chiffre 0 est associé au label -1\n",
    "* le chiffre 1 est associé au label 1"
   ]
  },
  {
   "cell_type": "code",
   "execution_count": 6,
   "metadata": {
    "collapsed": false
   },
   "outputs": [
    {
     "name": "stdout",
     "output_type": "stream",
     "text": [
      "('shape X', (12665, 784))\n",
      "('shape y', (12665,))\n",
      "('label', array([-1,  1]))\n",
      "('-1:', 5923)\n",
      "('1:', 6742)\n",
      "('shape X', (2115, 784))\n",
      "('shape y', (2115,))\n",
      "('label', array([-1,  1]))\n",
      "('-1:', 980)\n",
      "('1:', 1135)\n"
     ]
    }
   ],
   "source": [
    "loader = DatasetLoader()\n",
    "pathMNIST = './data'\n",
    "loader.download_mnist(pathMNIST)\n",
    "X, y = loader.mnist(pathMNIST)\n",
    "X_test, y_test = loader.mnist_test(pathMNIST)"
   ]
  },
  {
   "cell_type": "markdown",
   "metadata": {},
   "source": [
    "## Analyse de la sparsité du modèle en fonction de la régularisation $L_1$"
   ]
  },
  {
   "cell_type": "markdown",
   "metadata": {},
   "source": [
    "Nous allons entraîner notre classifieur linéaire en cross-validation 5 folds afin de calculer la performance (pourcentage de bonnes classifications) moyenne de notre modèle en faisant varier les valeurs du coefficient de régularisation L1."
   ]
  },
  {
   "cell_type": "code",
   "execution_count": 106,
   "metadata": {
    "collapsed": false
   },
   "outputs": [
    {
     "name": "stdout",
     "output_type": "stream",
     "text": [
      "Coefficient de régularisation L1: 0\n",
      "Performance moyenne: 0.863797868141\n",
      "Performance std: 0.0305995693597\n",
      "Coefficient de régularisation L1: 25\n",
      "Performance moyenne: 0.992893801816\n",
      "Performance std: 0.00211865896013\n",
      "Coefficient de régularisation L1: 50\n",
      "Performance moyenne: 0.992262139755\n",
      "Performance std: 0.00247932387969\n",
      "Coefficient de régularisation L1: 75\n",
      "Performance moyenne: 0.989577575997\n",
      "Performance std: 0.00332748638069\n",
      "Coefficient de régularisation L1: 100\n",
      "Performance moyenne: 0.989340702724\n",
      "Performance std: 0.00297535628605\n",
      "Coefficient de régularisation L1: 125\n",
      "Performance moyenne: 0.975523095144\n",
      "Performance std: 0.0222725265292\n",
      "Coefficient de régularisation L1: 150\n",
      "Performance moyenne: 0.956336360047\n",
      "Performance std: 0.0629172948079\n",
      "Coefficient de régularisation L1: 175\n",
      "Performance moyenne: 0.809711804185\n",
      "Performance std: 0.220342653897\n",
      "Coefficient de régularisation L1: 200\n",
      "Performance moyenne: 0.885116462692\n",
      "Performance std: 0.171269368521\n",
      "Coefficient de régularisation L1: 225\n",
      "Performance moyenne: 0.924437425977\n",
      "Performance std: 0.0915292411964\n"
     ]
    }
   ],
   "source": [
    "from sklearn.cross_validation import KFold\n",
    "\n",
    "grid_size = 10\n",
    "grid_wd = [50*gid for gid in range(grid_size)]\n",
    "acc_mean = np.zeros(grid_size)\n",
    "acc_std  = np.zeros(grid_size)\n",
    "for gid, wd in enumerate(grid_wd):\n",
    "    n_folds = 5\n",
    "    cv = KFold(n=X.shape[0], n_folds=n_folds)\n",
    "    acc = np.zeros(n_folds)\n",
    "    i = 0\n",
    "    for id_train, id_test in cv:\n",
    "        X_cvtrain = X[id_train]\n",
    "        y_cvtrain = y[id_train]\n",
    "        X_cvtest = X[id_test]\n",
    "        y_cvtest = y[id_test]\n",
    "        clf_cv = Linear(iter=50, lr=2e-8, mo=0.4, wd=wd, reg=RegL1(), debug=False)\n",
    "        clf_cv.fit(X_cvtrain, y_cvtrain)\n",
    "        acc[i] = clf_cv.accuracy(X_cvtest, y_cvtest)\n",
    "        i += 1\n",
    "    acc_mean[gid] = acc.mean()\n",
    "    acc_std[gid]  = acc.std()\n",
    "    print 'Coefficient de régularisation L1:', wd\n",
    "    print 'Performance en test (mean):', acc_mean[gid]\n",
    "    print 'Performance en test (std):', acc_std[gid]"
   ]
  },
  {
   "cell_type": "markdown",
   "metadata": {},
   "source": [
    "On remarque que la régularisation L1 augmente les performances de notre modèle quand le coefficent de régularisation est bien paramétré. En effet, si ce dernier est trop important, le loss devient négligable par rapport à la contrainte sur la sparsité du modèle. De ce fait, le modèle n'apprend plus."
   ]
  },
  {
   "cell_type": "code",
   "execution_count": 128,
   "metadata": {
    "collapsed": false
   },
   "outputs": [
    {
     "data": {
      "image/png": "[encoded data removed]",
      "text/plain": [
       "<matplotlib.figure.Figure at 0x107ec81d0>"
      ]
     },
     "metadata": {},
     "output_type": "display_data"
    }
   ],
   "source": [
    "Display.plot(x=grid_wd, y=acc_mean*100, yerr=acc_std*100, xlabel='Coefficent de regularisation L1', ylabel='Pourcentages de bonnes classifications en test')"
   ]
  },
  {
   "cell_type": "markdown",
   "metadata": {},
   "source": [
    "De même, nous allons faire varier le coefficient de régularisation L1 tout en gardant l'information de sparsité du modèle, c'est à dire le nombre de paramètres égaux à 0."
   ]
  },
  {
   "cell_type": "code",
   "execution_count": 115,
   "metadata": {
    "collapsed": false
   },
   "outputs": [
    {
     "name": "stdout",
     "output_type": "stream",
     "text": [
      "Coefficient de régularisation L1: 0\n",
      "Performance en test: 0.973995271868\n",
      "Sparsité du modèle: 784.0\n",
      "Coefficient de régularisation L1: 50\n",
      "Performance en test: 0.995744680851\n",
      "Sparsité du modèle: 469.0\n",
      "Coefficient de régularisation L1: 100\n",
      "Performance en test: 0.995271867612\n",
      "Sparsité du modèle: 500.0\n",
      "Coefficient de régularisation L1: 150\n",
      "Performance en test: 0.993853427896\n",
      "Sparsité du modèle: 487.0\n",
      "Coefficient de régularisation L1: 200\n",
      "Performance en test: 0.985342789598\n",
      "Sparsité du modèle: 489.0\n",
      "Coefficient de régularisation L1: 250\n",
      "Performance en test: 0.536643026005\n",
      "Sparsité du modèle: 424.0\n",
      "Coefficient de régularisation L1: 300\n",
      "Performance en test: 0.536643026005\n",
      "Sparsité du modèle: 409.0\n",
      "Coefficient de régularisation L1: 350\n",
      "Performance en test: 0.679432624113\n",
      "Sparsité du modèle: 389.0\n",
      "Coefficient de régularisation L1: 400\n",
      "Performance en test: 0.924349881797\n",
      "Sparsité du modèle: 453.0\n",
      "Coefficient de régularisation L1: 450\n",
      "Performance en test: 0.536643026005\n",
      "Sparsité du modèle: 367.0\n"
     ]
    }
   ],
   "source": [
    "grid_size = 10\n",
    "grid_wd = [50*gid for gid in range(grid_size)]\n",
    "accuracy = np.zeros(grid_size)\n",
    "sparsity = np.zeros(grid_size)\n",
    "for gid, wd in enumerate(grid_wd):\n",
    "    clf_s = Linear(iter=200, lr=2e-8, mo=0.4, wd=wd, reg=RegL1(), debug=False)\n",
    "    clf_s.fit(X, y)\n",
    "    accuracy[gid] = clf_s.accuracy(X_test, y_test)\n",
    "    sparsity[gid] = clf_s.L0()\n",
    "    print 'Coefficient de régularisation L1:', wd\n",
    "    print 'Performance en test:', accuracy[gid]\n",
    "    print 'Sparsité du modèle:', sparsity[gid]"
   ]
  },
  {
   "cell_type": "markdown",
   "metadata": {},
   "source": [
    "On remarque que les performances augmentent proportionnellement au nombre de paramètres nuls jusqu'à un seuil au tour de 330 paramètres nuls sur 784. Lorsque ce seuil est atteint, les performances du classifieur baissent énormément. Ce phénomène observé précédement est explicable par l'incapacité du classifieur à apprendre. En effet, le loss devient négligable par rapport à la contrainte sur la sparsité du modèle."
   ]
  },
  {
   "cell_type": "code",
   "execution_count": 131,
   "metadata": {
    "collapsed": false
   },
   "outputs": [
    {
     "data": {
      "image/png": "[encoded data removed]",
      "text/plain": [
       "<matplotlib.figure.Figure at 0x10cf1ba10>"
      ]
     },
     "metadata": {},
     "output_type": "display_data"
    }
   ],
   "source": [
    "arg = sparsity.argsort()\n",
    "Display.plot(x=sparsity[arg], y=accuracy[arg]*100, xlabel='Nombre de parametres nuls', ylabel='Pourcentages de bonnes classifications en test')"
   ]
  },
  {
   "cell_type": "markdown",
   "metadata": {},
   "source": [
    "## Analyse visuelle des méthodes de régularisation $L_1$ et $L_2$"
   ]
  },
  {
   "cell_type": "markdown",
   "metadata": {},
   "source": [
    "Nous allons entraîner plusieurs classifieurs linéaires avec descente de gradient stochastique (SGD)\n",
    "et momentum nesterov. Les paramètres des classifieurs sont initialisés avec une gaussienne de moyenne 0 et de std 0.1. Une fois une accuracy test satisfaisante atteinte, nous pourrons comparer les classifieurs en fonction de leur méthode de régularisation."
   ]
  },
  {
   "cell_type": "markdown",
   "metadata": {},
   "source": [
    "### Classifieur non entraîné"
   ]
  },
  {
   "cell_type": "code",
   "execution_count": 74,
   "metadata": {
    "collapsed": false
   },
   "outputs": [],
   "source": [
    "clfc = Linear(iter=200, lr=1e-8, mo=0.4, debug=True)\n",
    "clfc.init_w(X.shape[1])"
   ]
  },
  {
   "cell_type": "markdown",
   "metadata": {},
   "source": [
    "Avant l'entrainement, les valeurs des paramètres sont aléatoires."
   ]
  },
  {
   "cell_type": "code",
   "execution_count": 49,
   "metadata": {
    "collapsed": false
   },
   "outputs": [
    {
     "name": "stdout",
     "output_type": "stream",
     "text": [
      "Nombre de paramètres actifs : 784\n",
      "Nombre de paramètres nuls : 0\n"
     ]
    },
    {
     "data": {
      "image/png": "[encoded data removed]",
      "text/plain": [
       "<matplotlib.figure.Figure at 0x10ceb9a90>"
      ]
     },
     "metadata": {},
     "output_type": "display_data"
    }
   ],
   "source": [
    "Display.heatmap(clfc)"
   ]
  },
  {
   "cell_type": "markdown",
   "metadata": {},
   "source": [
    "### Classifieur sans régularisation"
   ]
  },
  {
   "cell_type": "code",
   "execution_count": 78,
   "metadata": {
    "collapsed": false
   },
   "outputs": [
    {
     "name": "stdout",
     "output_type": "stream",
     "text": [
      "#iter 50\n",
      "err_global 42.0608188881\n",
      "accuracy train 0.829293328069\n",
      "accuracy test 0.827895981087\n",
      "L0 784\n",
      "#iter 100\n",
      "err_global 28.248516222\n",
      "accuracy train 0.904461113304\n",
      "accuracy test 0.917730496454\n",
      "L0 783\n",
      "#iter 150\n",
      "err_global 26.6155000124\n",
      "accuracy train 0.975444137386\n",
      "accuracy test 0.971158392435\n",
      "L0 783\n",
      "#iter 200\n",
      "err_global 25.1984543481\n",
      "accuracy train 0.940860639558\n",
      "accuracy test 0.94231678487\n",
      "L0 784\n"
     ]
    }
   ],
   "source": [
    "clf = Linear(iter=200, lr=2e-8, mo=0.4, reg=None, debug=True)\n",
    "clf.fit(X, y, X_test, y_test)"
   ]
  },
  {
   "cell_type": "markdown",
   "metadata": {},
   "source": [
    "On remarque que les paramètres du classifieur en bordure sont aléatoires tandis que les paramètres au centre du canvas sont très faibles. Nous savons que les chiffres de MNIST sont centrés dans le canvas, aucun pixel n'est donc allumé en bordure. Alors, comme il n'y a pas de régularisation, les paramètres en bordure ne sont pas modifiés, contrairement aux autres pixels centraux. La variation de valeur de ces derniers est difficile à voir, mais on peut remarquer que les pixels au tour de la zone centrale sont plus rouge. En effet, le chiffre 1 a plus de probabilité de passer par ces pixels que le chiffre 0."
   ]
  },
  {
   "cell_type": "code",
   "execution_count": 48,
   "metadata": {
    "collapsed": false
   },
   "outputs": [
    {
     "name": "stdout",
     "output_type": "stream",
     "text": [
      "Nombre de paramètres actifs : 784\n",
      "Nombre de paramètres nuls : 0\n"
     ]
    },
    {
     "data": {
      "image/png": "[encoded data removed]",
      "text/plain": [
       "<matplotlib.figure.Figure at 0x10ce70c50>"
      ]
     },
     "metadata": {},
     "output_type": "display_data"
    }
   ],
   "source": [
    "Display.heatmap(clf)"
   ]
  },
  {
   "cell_type": "markdown",
   "metadata": {},
   "source": [
    "### Classifieur avec régularisation L1"
   ]
  },
  {
   "cell_type": "code",
   "execution_count": 44,
   "metadata": {
    "collapsed": false
   },
   "outputs": [
    {
     "name": "stdout",
     "output_type": "stream",
     "text": [
      "#iter 0\n",
      "err_global 436.809487648\n",
      "accuracy train 0.433241215949\n",
      "accuracy test 0.414657210402\n",
      "L0 757\n",
      "#iter 50\n",
      "err_global 0.168283798908\n",
      "accuracy train 0.991077773391\n",
      "accuracy test 0.99621749409\n",
      "L0 448\n",
      "#iter 100\n",
      "err_global 0.120782442516\n",
      "accuracy train 0.992893801816\n",
      "accuracy test 0.994799054374\n",
      "L0 498\n",
      "#iter 150\n",
      "err_global 0.157018877247\n",
      "accuracy train 0.990998815634\n",
      "accuracy test 0.996690307329\n",
      "L0 472\n"
     ]
    }
   ],
   "source": [
    "clf1 = Linear(iter=50, lr=2e-8, wd=50, mo=0.4, reg=RegL1(), debug=True)\n",
    "clf1.fit(X, y, X_test, y_test)"
   ]
  },
  {
   "cell_type": "markdown",
   "metadata": {},
   "source": [
    "On remarque que les performances avec régularisation L1 sont meilleures que sans régularisation. Aussi, on voit l'apparition d'un chiffre 0 en bleu et de pixels centraux en rouge, le reste du canvas étant blanc, c'est à dire que les paramètres sont nuls.\n",
    "\n",
    "Donc, la régularisation L1 est très efficace pour rendre le vecteur paramètres très sparse, c'est à dire augmenter son nombre de paramètres nuls."
   ]
  },
  {
   "cell_type": "code",
   "execution_count": 53,
   "metadata": {
    "collapsed": false
   },
   "outputs": [
    {
     "name": "stdout",
     "output_type": "stream",
     "text": [
      "Nombre de paramètres actifs : 462\n",
      "Nombre de paramètres nuls : 322\n"
     ]
    },
    {
     "data": {
      "image/png": "[encoded data removed]",
      "text/plain": [
       "<matplotlib.figure.Figure at 0x107e41250>"
      ]
     },
     "metadata": {},
     "output_type": "display_data"
    }
   ],
   "source": [
    "Display.heatmap(clf1)"
   ]
  },
  {
   "cell_type": "markdown",
   "metadata": {},
   "source": [
    "### Classfieur avec régularisation L2"
   ]
  },
  {
   "cell_type": "code",
   "execution_count": 63,
   "metadata": {
    "collapsed": false
   },
   "outputs": [
    {
     "name": "stdout",
     "output_type": "stream",
     "text": [
      "#iter 0\n",
      "err_global 249.878993156\n",
      "accuracy train 0.660086853533\n",
      "accuracy test 0.666666666667\n",
      "L0 784\n",
      "#iter 50\n",
      "err_global 0.0505442606985\n",
      "accuracy train 0.996683774181\n",
      "accuracy test 0.997635933806\n",
      "L0 780\n",
      "#iter 100\n",
      "err_global 0.0469069752623\n",
      "accuracy train 0.997473351757\n",
      "accuracy test 0.998108747045\n",
      "L0 784\n",
      "#iter 150\n",
      "err_global 0.0396447026748\n",
      "accuracy train 0.997078562969\n",
      "accuracy test 0.997635933806\n",
      "L0 774\n"
     ]
    }
   ],
   "source": [
    "clf2 = Linear(iter=200, lr=2e-8, wd=500, mo=0.4, reg=RegL2(), debug=True)\n",
    "clf2.fit(X, y, X_test, y_test)"
   ]
  },
  {
   "cell_type": "markdown",
   "metadata": {},
   "source": [
    "Premièrement, on constate que le nombre de paramètres nuls est beaucoup plus faible que pour la régularisation L1.\n",
    "Deuxièmement, les paramètres aux bords du canvas sont très faibles, contrairement aux paramètres en position centrale qui sont très rouge. \n",
    "\n",
    "Donc, la régularisaion L2 n'entraîne pas la sparsité des paramètres du modèle. Par ailleurs, elle permet d'augmenter les valeurs des paramètres les plus importants, et de baisser les autres."
   ]
  },
  {
   "cell_type": "code",
   "execution_count": 87,
   "metadata": {
    "collapsed": false
   },
   "outputs": [
    {
     "name": "stdout",
     "output_type": "stream",
     "text": [
      "Nombre de paramètres actifs : 777\n",
      "Nombre de paramètres nuls : 7\n",
      "Valeur en bordure 1.42014407269e-38\n"
     ]
    },
    {
     "data": {
      "image/png": "[encoded data removed]",
      "text/plain": [
       "<matplotlib.figure.Figure at 0x10cefa190>"
      ]
     },
     "metadata": {},
     "output_type": "display_data"
    }
   ],
   "source": [
    "Display.heatmap(clf2)\n",
    "print \"Valeur en bordure\", clf2.w[0]"
   ]
  },
  {
   "cell_type": "markdown",
   "metadata": {},
   "source": [
    "### Classifieur avec régularisation $\\lambda_1 L1 + \\lambda_2 L2$"
   ]
  },
  {
   "cell_type": "code",
   "execution_count": 91,
   "metadata": {
    "collapsed": false
   },
   "outputs": [
    {
     "name": "stdout",
     "output_type": "stream",
     "text": [
      "#iter 50\n",
      "err_global 0.0521478760547\n",
      "accuracy train 0.994867745756\n",
      "accuracy test 0.997163120567\n",
      "L0 560\n",
      "#iter 100\n",
      "err_global 0.0528437382243\n",
      "accuracy train 0.993920252665\n",
      "accuracy test 0.996690307329\n",
      "L0 550\n",
      "#iter 150\n",
      "err_global 0.0513872034636\n",
      "accuracy train 0.994946703514\n",
      "accuracy test 0.997635933806\n",
      "L0 533\n",
      "#iter 200\n",
      "err_global 0.0456182934488\n",
      "accuracy train 0.995025661271\n",
      "accuracy test 0.997635933806\n",
      "L0 576\n"
     ]
    }
   ],
   "source": [
    "clf12 = Linear(iter=200, lr=2e-8, wd=50, mo=0.4, reg=RegL1L2(.1, 5), debug=True)\n",
    "clf12.fit(X, y, X_test, y_test)"
   ]
  },
  {
   "cell_type": "markdown",
   "metadata": {},
   "source": [
    "On remarque les influences des deux régularisations. En effet, le vecteur paramètres est plus sparse qu'avec la régularisation L2, notamment en bordure, mais moins qu'avec la L1. De plus, les valeurs des paramètres liés aux pixels les plus représentatifs des classes sont beaucoup plus importantes. Par exemple, les pixels centraux sont très rouge."
   ]
  },
  {
   "cell_type": "code",
   "execution_count": 92,
   "metadata": {
    "collapsed": false
   },
   "outputs": [
    {
     "name": "stdout",
     "output_type": "stream",
     "text": [
      "Nombre de paramètres actifs : 576\n",
      "Nombre de paramètres nuls : 208\n",
      "Valeur en bordure 0.0\n"
     ]
    },
    {
     "data": {
      "image/png": "[encoded data removed]",
      "text/plain": [
       "<matplotlib.figure.Figure at 0x10d11cd90>"
      ]
     },
     "metadata": {},
     "output_type": "display_data"
    }
   ],
   "source": [
    "Display.heatmap(clf12)\n",
    "print \"Valeur en bordure\", clf12.w[0]"
   ]
  },
  {
   "cell_type": "markdown",
   "metadata": {},
   "source": [
    "## Modèle Lasso"
   ]
  },
  {
   "cell_type": "markdown",
   "metadata": {},
   "source": [
    "Le modèle Lasso est un classifieur linéaire de la library sklearn. Il a la particularité d'être entrainé avec la norme L1 sur ses paramètres comme régularisation (aka Lasso). Sa fonction objectif, exprimée ci-après, est un peu différente de la notre, car l'erreur sur tous les exemples est calculée. Cela nous indique l'utilisation d'une descente de gradient batch, et non pas stochastique, pour l'optimisation.\n",
    "$$(1 / (2 * n\\_samples)) * ||y - Xw||^2_2 + alpha * ||w||_1$$\n",
    "\n",
    "Nous allons donc faire varier le coefficient de régularisation L1 $alpha$ afin de retrouver les mêmes observations que lors de l'entrainement de notre propre classifieur linéaire."
   ]
  },
  {
   "cell_type": "code",
   "execution_count": 159,
   "metadata": {
    "collapsed": false
   },
   "outputs": [
    {
     "name": "stdout",
     "output_type": "stream",
     "text": [
      "Performance en test : 0.96155890784\n",
      "Nombre de paramètres actifs : 568\n",
      "Nombre de paramètres nuls : 216\n"
     ]
    },
    {
     "data": {
      "image/png": "[encoded data removed]",
      "text/plain": [
       "<matplotlib.figure.Figure at 0x107c83e50>"
      ]
     },
     "metadata": {},
     "output_type": "display_data"
    }
   ],
   "source": [
    "from sklearn.linear_model import Lasso\n",
    "\n",
    "clf_lasso = Lasso(alpha=.0001, fit_intercept=True, normalize=False, precompute=False, copy_X=True, max_iter=200, tol=0.0001, warm_start=False, positive=False, random_state=None, selection='cyclic')\n",
    "clf_lasso.fit(X, y)\n",
    "print 'Performance en test :', clf_lasso.score(X_test, y_test)\n",
    "Display.heatmap(clf_lasso, type_clf='Lasso')"
   ]
  },
  {
   "cell_type": "code",
   "execution_count": 155,
   "metadata": {
    "collapsed": false
   },
   "outputs": [
    {
     "name": "stdout",
     "output_type": "stream",
     "text": [
      "Performance en test : 0.970958254617\n",
      "Nombre de paramètres actifs : 402\n",
      "Nombre de paramètres nuls : 382\n"
     ]
    },
    {
     "data": {
      "image/png": "[encoded data removed]",
      "text/plain": [
       "<matplotlib.figure.Figure at 0x10d3c49d0>"
      ]
     },
     "metadata": {},
     "output_type": "display_data"
    }
   ],
   "source": [
    "clf_lasso = Lasso(alpha=.01, fit_intercept=True, normalize=False, precompute=False, copy_X=True, max_iter=200, tol=0.0001, warm_start=False, positive=False, random_state=None, selection='cyclic')\n",
    "clf_lasso.fit(X, y)\n",
    "print 'Performance en test :', clf_lasso.score(X_test, y_test)\n",
    "Display.heatmap(clf_lasso, type_clf='Lasso')"
   ]
  },
  {
   "cell_type": "code",
   "execution_count": 156,
   "metadata": {
    "collapsed": false
   },
   "outputs": [
    {
     "name": "stdout",
     "output_type": "stream",
     "text": [
      "Performance en test : 0.97214579716\n",
      "Nombre de paramètres actifs : 172\n",
      "Nombre de paramètres nuls : 612\n"
     ]
    },
    {
     "data": {
      "image/png": "[encoded data removed]",
      "text/plain": [
       "<matplotlib.figure.Figure at 0x107eee890>"
      ]
     },
     "metadata": {},
     "output_type": "display_data"
    }
   ],
   "source": [
    "clf_lasso = Lasso(alpha=.1, fit_intercept=True, normalize=False, precompute=False, copy_X=True, max_iter=200, tol=0.0001, warm_start=False, positive=False, random_state=None, selection='cyclic')\n",
    "clf_lasso.fit(X, y)\n",
    "print 'Performance en test :', clf_lasso.score(X_test, y_test)\n",
    "Display.heatmap(clf_lasso, type_clf='Lasso')"
   ]
  },
  {
   "cell_type": "code",
   "execution_count": 157,
   "metadata": {
    "collapsed": false
   },
   "outputs": [
    {
     "name": "stdout",
     "output_type": "stream",
     "text": [
      "Performance en test : 0.959213785181\n",
      "Nombre de paramètres actifs : 10\n",
      "Nombre de paramètres nuls : 774\n"
     ]
    },
    {
     "data": {
      "image/png": "[encoded data removed]",
      "text/plain": [
       "<matplotlib.figure.Figure at 0x10ce61850>"
      ]
     },
     "metadata": {},
     "output_type": "display_data"
    }
   ],
   "source": [
    "clf_lasso = Lasso(alpha=10, fit_intercept=True, normalize=False, precompute=False, copy_X=True, max_iter=200, tol=0.0001, warm_start=False, positive=False, random_state=None, selection='cyclic')\n",
    "clf_lasso.fit(X, y)\n",
    "print 'Performance en test :', clf_lasso.score(X_test, y_test)\n",
    "Display.heatmap(clf_lasso, type_clf='Lasso')"
   ]
  },
  {
   "cell_type": "markdown",
   "metadata": {},
   "source": [
    "## Conclusion"
   ]
  },
  {
   "cell_type": "markdown",
   "metadata": {},
   "source": [
    "Dans ce rapport, nous avons codé notre propre classifieur linéaire, optimisable avec descente de gradient stochastique, et régularisable avec la norme $L_1$ de son vecteur paramètres, $L_2$, ou une combinaison des deux. De cette façon, nous avons analysé l'impacte de ces différentes méthodes de régularisation sur les performances. En utilisant la base d'images MNIST, nous avons visualisé facilement les paramètres de nos différents classifieurs, et ainsi nous avons exposé leur intérêt et leurs différences. Enfin, nous avons comparé nos résultats avec le modèle linéaire Lasso, issu de la bibliothèque de machine learning sklearn, afin de valider notre code.\n",
    "\n",
    "En conclusion, la régularisation $L_1$ permet de contrôler la sparsité du modèle ce qui entraîne la sélection des caractéristiques (features) les plus expressives. Nous pouvons donc considérer la régularisation $L_1$ comme une approche Wrapper à la sélection de caractérstiques. La méthode de régularisation $L_2$, quant à elle, implique une sparsité spécifique du modèle. En effet, les paramètres du modèle qui étaient nuls pour $L_1$ sont proches de 0 pour $L_2$ relativement aux paramètres les plus expressifs. Enfin, c'est cette dernière méthode qui permet d'obtenir les meilleurs résultats.\n",
    "\n",
    "Ce rapport étant centré sur la norme L1 comme méthode de régularisation, nous aimerions montrer dans de futures recherches l'intérêt de la norme L2 par rapport à la norme L1 dans des réseaux de neurones plus profonds traitant de données plus complexes aux caractéristiques (features) plus corrélées. "
   ]
  }
 ],
 "metadata": {
  "kernelspec": {
   "display_name": "Python 2",
   "language": "python",
   "name": "python2"
  },
  "language_info": {
   "codemirror_mode": {
    "name": "ipython",
    "version": 2
   },
   "file_extension": ".py",
   "mimetype": "text/x-python",
   "name": "python",
   "nbconvert_exporter": "python",
   "pygments_lexer": "ipython2",
   "version": "2.7.10"
  }
 },
 "nbformat": 4,
 "nbformat_minor": 0
}
