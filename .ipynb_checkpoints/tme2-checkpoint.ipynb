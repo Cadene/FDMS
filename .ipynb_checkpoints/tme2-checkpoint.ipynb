{
 "cells": [
  {
   "cell_type": "code",
   "execution_count": 248,
   "metadata": {
    "collapsed": false
   },
   "outputs": [],
   "source": [
    "import numpy as np\n",
    "import random\n",
    "from sklearn.datasets.mldata import fetch_mldata\n",
    "from sklearn import metrics"
   ]
  },
  {
   "cell_type": "code",
   "execution_count": 249,
   "metadata": {
    "collapsed": false,
    "scrolled": true
   },
   "outputs": [],
   "source": [
    "class LinearL1():\n",
    "    \n",
    "    def __init__(self, nb_iter=10000, eps=1e-3, lamb=0):\n",
    "        self.nb_iter = nb_iter\n",
    "        self.eps = eps\n",
    "        self.lamb = lamb\n",
    "        \n",
    "    def fit(self, X, Y, Xtest, Ytest):\n",
    "        l = X.shape[0] # exemple\n",
    "        n = X.shape[1] # dimension\n",
    "        self.teta = np.random.normal(0.0, 0.1, n) # loi normale centrée sur 0 avec une dispersion de 0.5\n",
    "        print self.teta\n",
    "        for it in range(self.nb_iter):\n",
    "            for i in range(l) :\n",
    "                idx = random.randint(0,l-1)\n",
    "                teta_prim = np.copy(self.teta)\n",
    "                teta_prim = self.teta - self.eps * self.grad_loss(X[idx], Y[idx])\n",
    "                for j in range(n) : \n",
    "                    if (teta_prim[j] * self.teta[j]) < 0 :\n",
    "                        self.teta[j] = 0.\n",
    "                    else :\n",
    "                        self.teta[j] = teta_prim[j]\n",
    "        \n",
    "            print \"iteration\", it\n",
    "            print \"erreur :\", self.loss(X, Y)\n",
    "            print \"accuracy en train\", self.accuracy(X, Y)\n",
    "            print \"accuracy en test\", self.accuracy(Xtest, Ytest)\n",
    "            print \"-------------\"\n",
    "                \n",
    "    \n",
    "    def loss(self, X, Y) :\n",
    "        l = X.shape[0]\n",
    "        res = ((Y - X.dot(self.teta))**2).sum()\n",
    "        return (1./l)* res + self.lamb*np.linalg.norm(self.teta)\n",
    "    \n",
    "\n",
    "    def grad_loss(self, x, y) :\n",
    "        res = -2 * (y - x.dot(self.teta)) * x \n",
    "        if np.sign(self.teta).sum() >= 0 :\n",
    "            return res - self.lamb\n",
    "        return res + self.lamb \n",
    "\n",
    "    def accuracy(self, X, Y):\n",
    "        pred = self.predict(X)\n",
    "        return np.sum(Y == pred)*1. / X.shape[0]\n",
    "        \n",
    "    def predict(self, X):\n",
    "        return np.where(X.dot(self.teta) > 0, 1, -1)\n"
   ]
  },
  {
   "cell_type": "code",
   "execution_count": 250,
   "metadata": {
    "collapsed": false
   },
   "outputs": [
    {
     "name": "stdout",
     "output_type": "stream",
     "text": [
      "('X', (72, 7129))\n",
      "('Y', (72,))\n",
      "('labels', array([-1,  1]))\n",
      "('-1:', 25)\n",
      "('1:', 47)\n",
      "\n",
      "\n"
     ]
    }
   ],
   "source": [
    "def load_data(nom) :\n",
    "    d = fetch_mldata(nom)\n",
    "    X = d.data\n",
    "    Y = d.target\n",
    "    return X, Y\n",
    "\n",
    "def detail_data(X, Y) :\n",
    "    print(\"X\", X.shape)\n",
    "    print(\"Y\", Y.shape)\n",
    "    print(\"labels\", np.unique(Y))\n",
    "    print(\"-1:\", (Y == -1).sum())\n",
    "    print(\"1:\", (Y == 1).sum())\n",
    "    print '\\n'\n",
    "\n",
    "def split_data(X, Y, n = 0.80): # par defaut 80% train 20% test\n",
    "    d = int(X.shape[0] * n)\n",
    "    Xtrain = X[:d]\n",
    "    Ytrain = Y[:d]\n",
    "    Xtest = X[d:]\n",
    "    Ytest = Y[d:]\n",
    "    return Xtrain, Ytrain, Xtest, Ytest\n",
    "\n",
    "X,Y = load_data('leukemia')\n",
    "detail_data(X, Y)\n",
    "\n",
    "Xtrain, Ytrain, Xtest, Ytest = split_data(X, Y)\n",
    "#detail_data(Xtrain, Ytrain)\n",
    "#detail_data(Xtest, Ytest)\n"
   ]
  },
  {
   "cell_type": "code",
   "execution_count": 251,
   "metadata": {
    "collapsed": false
   },
   "outputs": [
    {
     "name": "stdout",
     "output_type": "stream",
     "text": [
      "[ 0.34301424 -0.07184514  0.35645215 ...,  0.52470111 -0.25628301\n",
      " -0.03616321]\n",
      "iteration 0\n",
      "erreur : 2105.34883526\n",
      "accuracy en train 0.473684210526\n",
      "accuracy en test 0.666666666667\n",
      "-------------\n",
      "iteration 1\n",
      "erreur : 2102.87202695\n",
      "accuracy en train 0.473684210526\n",
      "accuracy en test 0.666666666667\n",
      "-------------\n",
      "iteration 2\n",
      "erreur : 2099.64630432\n",
      "accuracy en train 0.473684210526\n",
      "accuracy en test 0.666666666667\n",
      "-------------\n",
      "iteration 3\n",
      "erreur : 2097.45926594\n",
      "accuracy en train 0.473684210526\n",
      "accuracy en test 0.666666666667\n",
      "-------------\n",
      "iteration 4\n",
      "erreur : 2095.81433147\n",
      "accuracy en train 0.473684210526\n",
      "accuracy en test 0.666666666667\n",
      "-------------\n"
     ]
    }
   ],
   "source": [
    "clf = LinearL1(nb_iter=5, eps=1e-8, lamb=0)\n",
    "clf.fit(Xtrain, Ytrain, Xtest, Ytest)"
   ]
  },
  {
   "cell_type": "code",
   "execution_count": null,
   "metadata": {
    "collapsed": true
   },
   "outputs": [],
   "source": []
  }
 ],
 "metadata": {
  "kernelspec": {
   "display_name": "Python 2",
   "language": "python",
   "name": "python2"
  },
  "language_info": {
   "codemirror_mode": {
    "name": "ipython",
    "version": 2
   },
   "file_extension": ".py",
   "mimetype": "text/x-python",
   "name": "python",
   "nbconvert_exporter": "python",
   "pygments_lexer": "ipython2",
   "version": "2.7.10"
  }
 },
 "nbformat": 4,
 "nbformat_minor": 0
}
