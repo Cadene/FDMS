{
 "cells": [
  {
   "cell_type": "markdown",
   "metadata": {},
   "source": [
    "# TP4 - Filtrage Collaboratif"
   ]
  },
  {
   "cell_type": "markdown",
   "metadata": {},
   "source": [
    "## Imports"
   ]
  },
  {
   "cell_type": "code",
   "execution_count": 1,
   "metadata": {
    "collapsed": true
   },
   "outputs": [],
   "source": [
    "import numpy as np\n",
    "import matplotlib.pyplot as plt\n",
    "\n",
    "from sklearn.base import BaseEstimator,ClassifierMixin\n",
    "from sklearn import metrics\n",
    "from sklearn.svm import SVC\n",
    "from sklearn import cross_validation"
   ]
  },
  {
   "cell_type": "markdown",
   "metadata": {},
   "source": [
    "## Chargement des données"
   ]
  },
  {
   "cell_type": "code",
   "execution_count": 2,
   "metadata": {
    "collapsed": false
   },
   "outputs": [],
   "source": [
    "def loadMovieLens(path='./data100k'):\n",
    "  # Get movie titles\n",
    "  movies={}\n",
    "  for line in open(path+'/u.item'):\n",
    "    (id,title)=line.split('|')[0:2]\n",
    "    movies[id]=title\n",
    "  # Load data\n",
    "  prefs={}\n",
    "  for line in open(path+'/u.data'):\n",
    "    (user,movieid,rating,ts)=line.split('\\t')\n",
    "    prefs.setdefault(user,{})\n",
    "    prefs[user][movies[movieid]]=float(rating)\n",
    "  return prefs"
   ]
  },
  {
   "cell_type": "code",
   "execution_count": 3,
   "metadata": {
    "collapsed": false
   },
   "outputs": [],
   "source": [
    "data = loadMovieLens()"
   ]
  },
  {
   "cell_type": "markdown",
   "metadata": {},
   "source": [
    "## Séparation en données de Train et de Test\n",
    "\n",
    "Pour pouvoir séparer les données en ensembles de Train et de Test, on construit la liste des couples (Utilisateurs, Objets) dont on connait les scores.\n",
    "On extrait ensuite aléatoirement une portion (20%) de ces couples pour les données de test, et le reste sera utilisé en apprentissage.\n",
    "\n",
    "Comme on ne souhaite ne pas évaluer les objets et les utilisateurs qui n'ont jamais été rencontré en apprentissage, on retire les couples correspondants de l'ensemble de test.\n",
    "\n",
    "Il faut ensuite a partir de ces couples reconstruire le dictionnaire qui pour chaque utilisateur donne les objets qu'il a noté, ainsi que le dictionnaire qui pour chaque objet donne les utilisateurs qui l'ont noté."
   ]
  },
  {
   "cell_type": "code",
   "execution_count": 16,
   "metadata": {
    "collapsed": false
   },
   "outputs": [],
   "source": [
    "def getCouplesUsersItems(data):\n",
    "    couples = []\n",
    "    for u in data.keys():\n",
    "        for i in data[u].keys():\n",
    "            couples.append([u,i])\n",
    "    return couples\n",
    "\n",
    "def splitTrainTest(couples,testProp):\n",
    "    perm = np.random.permutation(couples)\n",
    "    splitIndex = int(testProp * len(couples))\n",
    "    return perm[splitIndex:], perm[:splitIndex]\n",
    "\n",
    "def buildUsersDict(data,couples=None):\n",
    "    if (couples == None):\n",
    "        couples = getCouplesUsersItems(data)\n",
    "    dicUsers = {}\n",
    "    for c in couples:\n",
    "        if not c[0] in dicUsers.keys():\n",
    "            dicUsers[c[0]] = {}\n",
    "        dicUsers[c[0]][c[1]] = data[c[0]][c[1]]\n",
    "    return dicUsers\n",
    "\n",
    "def buildItemsDict(data,couples=None):\n",
    "    if (couples == None):\n",
    "        couples = getCouplesUsersItems(data)\n",
    "    dicItems = {}\n",
    "    for c in couples:\n",
    "        if not c[1] in dicItems:\n",
    "            dicItems[c[1]] = {}\n",
    "        dicItems[c[1]][c[0]] = data[c[0]][c[1]]\n",
    "    return dicItems"
   ]
  },
  {
   "cell_type": "code",
   "execution_count": 32,
   "metadata": {
    "collapsed": false
   },
   "outputs": [],
   "source": [
    "couples = getCouplesUsersItems(data)\n",
    "\n",
    "trainCouples, testCouples = splitTrainTest(couples,.20)\n",
    "\n",
    "trainUsers = buildUsersDict(data, trainCouples)\n",
    "trainItems = buildItemsDict(data, trainCouples)\n",
    "\n",
    "toDel = []\n",
    "\n",
    "for i,c in enumerate(testCouples):\n",
    "    if not c[0] in trainUsers:\n",
    "        toDel.append(i)\n",
    "    elif not c[1] in trainItems:\n",
    "        toDel.append(i)\n",
    "\n",
    "testCouples = np.delete(testCouples, toDel, 0)\n",
    "\n",
    "testUsers  = buildUsersDict(data, testCouples)\n",
    "testItems  = buildItemsDict(data, testCouples)\n",
    "\n",
    "#print len(trainUsers), len(testUsers)\n",
    "#print len(trainItems), len(testItems)"
   ]
  },
  {
   "cell_type": "markdown",
   "metadata": {},
   "source": [
    "## Baseline 1 : Moyenne par utilisateur\n",
    "\n",
    "Ce modèle "
   ]
  },
  {
   "cell_type": "code",
   "execution_count": 33,
   "metadata": {
    "collapsed": false
   },
   "outputs": [],
   "source": [
    "class baselineMeanUsers(BaseEstimator,ClassifierMixin):\n",
    "    def __init__(self):            \n",
    "        self.mean = {}\n",
    "    def fit(self, dataUsers):\n",
    "        self.mean = {}\n",
    "        for u in dataUsers.keys():\n",
    "            self.mean[u] = 0\n",
    "            for i in dataUsers[u].keys():\n",
    "                self.mean[u] = self.mean[u] + dataUsers[u][i]\n",
    "            self.mean[u] = self.mean[u] / len(dataUsers[u])\n",
    "    def predict(self, couplesTest):\n",
    "        pred = np.zeros(len(couplesTest))\n",
    "        for ind,c in enumerate(couplesTest):\n",
    "            pred[ind] = self.mean[c[0]]\n",
    "        return pred"
   ]
  },
  {
   "cell_type": "code",
   "execution_count": 34,
   "metadata": {
    "collapsed": false
   },
   "outputs": [
    {
     "name": "stdout",
     "output_type": "stream",
     "text": [
      "[ 3.7826087   2.24528302  3.80838323 ...,  4.27835052  3.38853503\n",
      "  4.01265823]\n"
     ]
    }
   ],
   "source": [
    "model1 = baselineMeanUsers()\n",
    "model1.fit(trainUsers)\n",
    "pred = model1.predict(testCouples)\n",
    "print pred"
   ]
  },
  {
   "cell_type": "markdown",
   "metadata": {},
   "source": [
    "## Baseline 2 : Moyenne par item\n",
    "\n"
   ]
  },
  {
   "cell_type": "code",
   "execution_count": 35,
   "metadata": {
    "collapsed": false
   },
   "outputs": [],
   "source": [
    "class baselineMeanItems(BaseEstimator,ClassifierMixin):\n",
    "    def __init__(self):            \n",
    "        self.mean = {}\n",
    "    def fit(self, dataItems):\n",
    "        self.mean = {}\n",
    "        for i in dataItems.keys():\n",
    "            self.mean[i] = 0\n",
    "            for u in dataItems[i].keys():\n",
    "                self.mean[i] = self.mean[i] + dataItems[i][u]\n",
    "            self.mean[i] = self.mean[i] / len(dataItems[i])\n",
    "    def predict(self, couplesTest):\n",
    "        pred = np.zeros(len(couplesTest))\n",
    "        for ind,c in enumerate(couplesTest):\n",
    "            pred[ind] = self.mean[c[1]]\n",
    "        return pred"
   ]
  },
  {
   "cell_type": "code",
   "execution_count": 37,
   "metadata": {
    "collapsed": false
   },
   "outputs": [
    {
     "name": "stdout",
     "output_type": "stream",
     "text": [
      "[ 3.88888889  3.89361702  3.62162162 ...,  3.90510949  3.79596977\n",
      "  4.14035088]\n"
     ]
    }
   ],
   "source": [
    "model2 = baselineMeanItems()\n",
    "model2.fit(trainItems)\n",
    "pred = model2.predict(testCouples)\n",
    "print pred\n"
   ]
  },
  {
   "cell_type": "markdown",
   "metadata": {},
   "source": [
    "## Factorisation de Matrices\n",
    "\n",
    "Faire varier N la taille de l'espace"
   ]
  },
  {
   "cell_type": "code",
   "execution_count": null,
   "metadata": {
    "collapsed": true
   },
   "outputs": [],
   "source": []
  },
  {
   "cell_type": "markdown",
   "metadata": {},
   "source": [
    "## Factorisation de Matrices avec biais"
   ]
  },
  {
   "cell_type": "code",
   "execution_count": null,
   "metadata": {
    "collapsed": false
   },
   "outputs": [],
   "source": [
    "data[users[10]]"
   ]
  },
  {
   "cell_type": "code",
   "execution_count": null,
   "metadata": {
    "collapsed": false
   },
   "outputs": [],
   "source": [
    "i = 2\n",
    "u = 1\n",
    "if items[i] in data[users[u]]:\n",
    "    print data[users[u]][items[i]]\n",
    "else:\n",
    "    print 0\n",
    "print couples"
   ]
  },
  {
   "cell_type": "markdown",
   "metadata": {},
   "source": [
    "## "
   ]
  }
 ],
 "metadata": {
  "kernelspec": {
   "display_name": "Python 2",
   "language": "python",
   "name": "python2"
  },
  "language_info": {
   "codemirror_mode": {
    "name": "ipython",
    "version": 2
   },
   "file_extension": ".py",
   "mimetype": "text/x-python",
   "name": "python",
   "nbconvert_exporter": "python",
   "pygments_lexer": "ipython2",
   "version": "2.7.9"
  }
 },
 "nbformat": 4,
 "nbformat_minor": 0
}
