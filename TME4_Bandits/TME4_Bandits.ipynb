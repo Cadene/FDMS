{
 "cells": [
  {
   "cell_type": "markdown",
   "metadata": {},
   "source": [
    "# Imports"
   ]
  },
  {
   "cell_type": "code",
   "execution_count": 3,
   "metadata": {
    "collapsed": false
   },
   "outputs": [],
   "source": [
    "import numpy as np\n",
    "import matplotlib.pyplot as plt\n",
    "\n",
    "%matplotlib inline"
   ]
  },
  {
   "cell_type": "markdown",
   "metadata": {},
   "source": [
    "# Chargement des données"
   ]
  },
  {
   "cell_type": "code",
   "execution_count": 4,
   "metadata": {
    "collapsed": true
   },
   "outputs": [],
   "source": [
    "def loadData(filename=\"./data\"):\n",
    "    f = open(filename, 'r')\n",
    "    x = []\n",
    "    y = []\n",
    "    for l in f.readlines():\n",
    "        l = l[:-2].split(':')\n",
    "        x.append(l[1].split(';'))\n",
    "        y.append(l[2].split(';'))\n",
    "    return np.array(x,float), np.array(y,float)    "
   ]
  },
  {
   "cell_type": "markdown",
   "metadata": {},
   "source": [
    "# Mesures"
   ]
  },
  {
   "cell_type": "code",
   "execution_count": 5,
   "metadata": {
    "collapsed": true
   },
   "outputs": [],
   "source": [
    "def evaluate(actions, y):\n",
    "    t = actions.shape[0]\n",
    "    regret = np.zeros((t))\n",
    "    gain = np.zeros((t))\n",
    "    for i in xrange(t):\n",
    "        gain[i] = y[i][actions[i]]\n",
    "        regret[i] = y[i].max() - gain[i]\n",
    "    return gain, regret"
   ]
  },
  {
   "cell_type": "markdown",
   "metadata": {},
   "source": [
    "# Baselines\n",
    "\n",
    "## Strategie Random"
   ]
  },
  {
   "cell_type": "code",
   "execution_count": 6,
   "metadata": {
    "collapsed": true
   },
   "outputs": [],
   "source": [
    "def strategieRandom(x, y):\n",
    "    return np.random.randint(0, y.shape[1], y.shape[0])"
   ]
  },
  {
   "cell_type": "markdown",
   "metadata": {},
   "source": [
    "## Strategie StaticBest"
   ]
  },
  {
   "cell_type": "code",
   "execution_count": 7,
   "metadata": {
    "collapsed": false
   },
   "outputs": [],
   "source": [
    "def strategieStaticBest(x, y):\n",
    "    return np.ones((len(y)), int) * y.sum(0).argmax()"
   ]
  },
  {
   "cell_type": "markdown",
   "metadata": {},
   "source": [
    "## Strategie Optimale"
   ]
  },
  {
   "cell_type": "code",
   "execution_count": 8,
   "metadata": {
    "collapsed": false
   },
   "outputs": [],
   "source": [
    "def strategieOptimale(x, y):\n",
    "    return y.argmax(1)"
   ]
  },
  {
   "cell_type": "markdown",
   "metadata": {},
   "source": [
    "# UCB"
   ]
  },
  {
   "cell_type": "code",
   "execution_count": 9,
   "metadata": {
    "collapsed": true
   },
   "outputs": [],
   "source": [
    "def UCB(x, y):\n",
    "    actions = np.zeros((y.shape[0]), int)\n",
    "    cum = np.zeros((y.shape[1]))\n",
    "    count = np.ones((y.shape[1]))\n",
    "    mu = np.zeros((y.shape[1]))\n",
    "    for i in xrange(0,y.shape[0]):\n",
    "        b = mu + np.sqrt(2 * np.log(i+1) / count)\n",
    "        actions[i] = b.argmax()\n",
    "        cum[actions[i]] += y[i][actions[i]]\n",
    "        count[actions[i]] += 1\n",
    "        mu[actions[i]] = cum[actions[i]] / count[actions[i]]\n",
    "    return actions"
   ]
  },
  {
   "cell_type": "markdown",
   "metadata": {},
   "source": [
    "# LinUCB"
   ]
  },
  {
   "cell_type": "code",
   "execution_count": 76,
   "metadata": {
    "collapsed": false
   },
   "outputs": [],
   "source": [
    "def LinUCB(x, y, alpha=0.5):\n",
    "    d = x.shape[1]\n",
    "    actions = np.zeros((x.shape[0]), int)\n",
    "    a = np.eye(d).reshape(1,d,d).repeat(y.shape[1],axis=0)\n",
    "    b = np.zeros((y.shape[1],d))\n",
    "    theta = np.zeros((y.shape[1],d))\n",
    "    p = np.zeros((y.shape[1]))\n",
    "    for i in xrange(0,x.shape[0]):\n",
    "        for k in xrange(y.shape[1]):\n",
    "            inva = np.linalg.inv(a[k])\n",
    "            theta[k] = inva.dot(b[k])\n",
    "            p[k] = theta[k].dot(x[i]) + alpha * np.sqrt(x[i].dot(inva.dot(x[i])))\n",
    "        actions[i] = np.random.choice(np.where(p == p.max())[0])\n",
    "        a[actions[i]] += x[i].dot(x[i])\n",
    "        b[actions[i]] += y[i][actions[i]] * x[i]\n",
    "    return actions"
   ]
  },
  {
   "cell_type": "markdown",
   "metadata": {},
   "source": [
    "# Experiences"
   ]
  },
  {
   "cell_type": "code",
   "execution_count": 11,
   "metadata": {
    "collapsed": false
   },
   "outputs": [],
   "source": [
    "x,y = loadData()"
   ]
  },
  {
   "cell_type": "code",
   "execution_count": 12,
   "metadata": {
    "collapsed": false
   },
   "outputs": [
    {
     "name": "stdout",
     "output_type": "stream",
     "text": [
      "gain:   0.0809955544721\n",
      "regret: 0.225405092675\n"
     ]
    }
   ],
   "source": [
    "actionsRandom = strategieRandom(x,y)\n",
    "gRandom,rRandom = evaluate(actionsRandom,y)\n",
    "print \"gain:  \", gRandom.mean()\n",
    "print \"regret:\", rRandom.mean()"
   ]
  },
  {
   "cell_type": "code",
   "execution_count": 13,
   "metadata": {
    "collapsed": false
   },
   "outputs": [
    {
     "name": "stdout",
     "output_type": "stream",
     "text": [
      "gain:   0.267927006209\n",
      "regret: 0.0384736409378\n"
     ]
    }
   ],
   "source": [
    "actionsStaticBest = strategieStaticBest(x,y)\n",
    "gStaticBest,rStaticBest = evaluate(actionsStaticBest,y)\n",
    "print \"gain:  \", gStaticBest.mean()\n",
    "print \"regret:\", rStaticBest.mean()"
   ]
  },
  {
   "cell_type": "code",
   "execution_count": 14,
   "metadata": {
    "collapsed": false
   },
   "outputs": [
    {
     "name": "stdout",
     "output_type": "stream",
     "text": [
      "gain:   0.306400647147\n",
      "regret: 0.0\n"
     ]
    }
   ],
   "source": [
    "actionsOptimale = strategieOptimale(x,y)\n",
    "gOptimale,rOptimale = evaluate(actionsOptimale,y)\n",
    "print \"gain:  \", gOptimale.mean()\n",
    "print \"regret:\", rOptimale.mean()"
   ]
  },
  {
   "cell_type": "code",
   "execution_count": 15,
   "metadata": {
    "collapsed": false
   },
   "outputs": [
    {
     "name": "stdout",
     "output_type": "stream",
     "text": [
      "gain:   0.20141435233\n",
      "regret: 0.104986294817\n"
     ]
    }
   ],
   "source": [
    "actionsUCB = UCB(x,y)\n",
    "gUCB,rUCB = evaluate(actionsUCB,y)\n",
    "print \"gain:  \", gUCB.mean()\n",
    "print \"regret:\", rUCB.mean()"
   ]
  },
  {
   "cell_type": "code",
   "execution_count": 77,
   "metadata": {
    "collapsed": false
   },
   "outputs": [
    {
     "name": "stdout",
     "output_type": "stream",
     "text": [
      "gain:   0.254105668411\n",
      "regret: 0.0522949787364\n"
     ]
    }
   ],
   "source": [
    "actionsLinUCB = LinUCB(x,y, .1)\n",
    "gLinUCB,rLinUCB = evaluate(actionsLinUCB,y)\n",
    "print \"gain:  \", gLinUCB.mean()\n",
    "print \"regret:\", rLinUCB.mean()"
   ]
  },
  {
   "cell_type": "code",
   "execution_count": 78,
   "metadata": {
    "collapsed": false
   },
   "outputs": [
    {
     "data": {
      "text/plain": [
       "<matplotlib.legend.Legend at 0x7fcc30b3ad10>"
      ]
     },
     "execution_count": 78,
     "metadata": {},
     "output_type": "execute_result"
    },
    {
     "data": {
      "image/png": "[encoded data removed]",
      "text/plain": [
       "<matplotlib.figure.Figure at 0x7fcc30c8e390>"
      ]
     },
     "metadata": {},
     "output_type": "display_data"
    },
    {
     "data": {
      "image/png": "[encoded data removed]",
      "text/plain": [
       "<matplotlib.figure.Figure at 0x7fcc30bb6590>"
      ]
     },
     "metadata": {},
     "output_type": "display_data"
    }
   ],
   "source": [
    "t = range(len(x))\n",
    "\n",
    "plt.figure()\n",
    "plt.plot(t, gRandom.cumsum(), label='random')\n",
    "plt.plot(t, gStaticBest.cumsum(), label='static best')\n",
    "plt.plot(t, gOptimale.cumsum(), label='optimale')\n",
    "plt.plot(t, gUCB.cumsum(), label='UCB')\n",
    "plt.plot(t, gLinUCB.cumsum(), label='LinUCB')\n",
    "plt.title('Rewards')\n",
    "plt.legend(loc=0)\n",
    "\n",
    "plt.figure()\n",
    "plt.plot(t, rRandom.cumsum(), label='random')\n",
    "plt.plot(t, rStaticBest.cumsum(), label='static best')\n",
    "plt.plot(t, rOptimale.cumsum(), label='optimale')\n",
    "plt.plot(t, rUCB.cumsum(), label='UCB')\n",
    "plt.plot(t, rLinUCB.cumsum(), label='LinUCB')\n",
    "plt.title('Regrets')\n",
    "plt.legend(loc=0)"
   ]
  },
  {
   "cell_type": "code",
   "execution_count": 25,
   "metadata": {
    "collapsed": false
   },
   "outputs": [
    {
     "data": {
      "text/plain": [
       "2009"
      ]
     },
     "execution_count": 25,
     "metadata": {},
     "output_type": "execute_result"
    }
   ],
   "source": [
    "(actionsLinUCB == 3).sum()"
   ]
  },
  {
   "cell_type": "code",
   "execution_count": 23,
   "metadata": {
    "collapsed": false
   },
   "outputs": [
    {
     "data": {
      "text/plain": [
       "array([3, 3, 3, ..., 3, 3, 3])"
      ]
     },
     "execution_count": 23,
     "metadata": {},
     "output_type": "execute_result"
    }
   ],
   "source": [
    "actionsStaticBest"
   ]
  }
 ],
 "metadata": {
  "kernelspec": {
   "display_name": "Python 2",
   "language": "python",
   "name": "python2"
  },
  "language_info": {
   "codemirror_mode": {
    "name": "ipython",
    "version": 2
   },
   "file_extension": ".py",
   "mimetype": "text/x-python",
   "name": "python",
   "nbconvert_exporter": "python",
   "pygments_lexer": "ipython2",
   "version": "2.7.9"
  }
 },
 "nbformat": 4,
 "nbformat_minor": 0
}
